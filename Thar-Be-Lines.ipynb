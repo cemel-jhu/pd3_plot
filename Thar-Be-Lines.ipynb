{
 "cells": [
  {
   "cell_type": "code",
   "execution_count": 29,
   "metadata": {},
   "outputs": [
    {
     "name": "stdout",
     "output_type": "stream",
     "text": [
      "45.861332077189815\n"
     ]
    },
    {
     "data": {
      "application/vnd.jupyter.widget-view+json": {
       "model_id": "c43d108a939145828276a18b501ae29d",
       "version_major": 2,
       "version_minor": 0
      },
      "text/plain": [
       "VBox(children=(Figure(animation=200.0, camera=PerspectiveCamera(fov=46.0, position=(0.0, 0.0, 2.0), quaternion…"
      ]
     },
     "metadata": {},
     "output_type": "display_data"
    }
   ],
   "source": [
    "import ipyvolume as ipv\n",
    "import numpy as np\n",
    "N = 100\n",
    "[y0,y1,y2,y3,y4,y5,y6,y7,y8,y9,y10,y11,y12] = [50,1+2,99,1+4,11,1+10,112,7,1+4,11, 23, 12, 8]\n",
    "x = np.random.normal(3, N)\n",
    "print (x)\n",
    "y = np.array([[float(\"nan\"),float(\"nan\"),y0,y5, float(\"nan\"), y9],\n",
    "[float(\"nan\"),float(\"nan\"),y1, y6, float(\"nan\"), y10],\n",
    "[float(\"nan\"),float(\"nan\"),y3, y7, float(\"nan\"), y11],\n",
    "[float(\"nan\"),float(\"nan\"),y4, y8, float(\"nan\"), y12]])\n",
    "z = np.random.normal(3, N)\n",
    "\n",
    "\n",
    "ipv.figure()\n",
    "s = ipv.scatter(x, y, z, marker='sphere', size=5, connected=True)\n",
    "ipv.xyzlim(-50, 50)\n",
    "ipv.animation_control(s) # shows controls for animation controls\n",
    "ipv.show()"
   ]
  },
  {
   "cell_type": "code",
   "execution_count": 44,
   "metadata": {
    "scrolled": false
   },
   "outputs": [
    {
     "data": {
      "application/vnd.jupyter.widget-view+json": {
       "model_id": "602cdcb7e887477b88d761546a448993",
       "version_major": 2,
       "version_minor": 0
      },
      "text/plain": [
       "VBox(children=(Figure(animation=200.0, camera=PerspectiveCamera(aspect=0.8, fov=46.0, matrixWorldNeedsUpdate=T…"
      ]
     },
     "metadata": {},
     "output_type": "display_data"
    }
   ],
   "source": [
    "import ipyvolume as ipv\n",
    "import numpy as np\n",
    "\n",
    "np.array([[-1, -0.8]]).shape\n",
    "\n",
    "# line @ t = 3\n",
    "# 1 -> 2 -> 3 -> 4 -> 5\n",
    "# timesteps = 10\n",
    "# [x0,x1,x2,x3,x4,x5,x6,x7,x8,x9,x10,x11,x12] = [1,4,8,12,16,1,4,8,12,16,18,25,44]\n",
    "s  = []\n",
    "L = 100\n",
    "x = np.random.normal(3, L)\n",
    "[y0,y1,y2,y3,y4,y5,y6,y7,y8,y9,y10,y11,y12] = [np.random.normal(3, L),np.random.normal(3, L),np.random.normal(3, L),np.random.normal(3, L),np.random.normal(3, L),np.random.normal(3, L),np.random.normal(3, L),np.random.normal(3, L),np.random.normal(3, L), np.random.normal(3, L), np.random.normal(3, L), np.random.normal(3, L), np.random.normal(3, L)]\n",
    "[z0,z1,z2,z3,z4,z5,z6,z7,z8,z9,z10,z11,z12] = [1+1,1+2,1+3,1+4,1+5,1+1,1+2,1+8,1+4,1+5, 11, 23, 12]\n",
    "\n",
    "# [x5,x6,x7,x8,x9] = [1,4,8,12,16]\n",
    "# [y5,y6,y7,y8,y9] = [1+10,1+12,7,1+4,11]\n",
    "# [z5,z6,z7,z8,z9] = [1+1,1+2,1+8,1+4,1+5]\n",
    "length = 20\n",
    "step = 5\n",
    "start = 0\n",
    "time = []\n",
    "t = []\n",
    "ipv.pylab.figure(key = 1)\n",
    "while start < length:\n",
    "    time.append(start)\n",
    "    start += step\n",
    "# Fig = []\n",
    "# Fig = ipv.pylab.figure()\n",
    "# Fig.append(ipv.pylab.figure())\n",
    "for i in time:\n",
    "    ipv.pylab.figure(key = 1)\n",
    "#     Fig.append(ipv.pylab.figure())\n",
    "#     t.append(Fig)\n",
    "    N = 100\n",
    "    x = np.random.normal(0, N)\n",
    "    y = np.array([[float(\"nan\"),float(\"nan\"),y0,y5, float(\"nan\"), y9],\n",
    "    [float(\"nan\"),float(\"nan\"),y1, y6, float(\"nan\"), y10],\n",
    "    [float(\"nan\"),float(\"nan\"),y3, y7, float(\"nan\"), y11],\n",
    "    [float(\"nan\"),float(\"nan\"),y4, y8, float(\"nan\"), y12]])\n",
    "\n",
    "    z = np.array([[float(\"nan\"),float(\"nan\"),z0,z5, float(\"nan\"), z9],\n",
    "    [float(\"nan\"),float(\"nan\"),z1, z6, float(\"nan\"), z10],\n",
    "    [float(\"nan\"),float(\"nan\"),z3, z7, float(\"nan\"), z11],\n",
    "    [float(\"nan\"),float(\"nan\"),z4, z8, float(\"nan\"), z12]])\n",
    "    \n",
    "    s.append(ipv.scatter(x, y, z, marker='sphere', size=0, connected=True))\n",
    "ipv.xyzlim(-50, 50)\n",
    "# extra_widgets = t\n",
    "ipv.animation_control(s) # shows controls for animation controls\n",
    "ipv.show()"
   ]
  },
  {
   "cell_type": "code",
   "execution_count": null,
   "metadata": {
    "scrolled": false
   },
   "outputs": [],
   "source": [
    "import ipyvolume as ipv\n",
    "import numpy as np\n",
    "\n",
    "# only x is a sequence of arrays\n",
    "x = np.array(np.array([[[0.0, 0.5, float(\"nan\")], [2.0, 4.0, float(\"nan\")], [float(\"nan\"), float(\"nan\"), float(\"nan\")]],[[0.0, 1.5, float(\"nan\")], [6.0, 3.0, float(\"nan\")], [float(\"nan\"), float(\"nan\"), float(\"nan\")]]]))\n",
    "y = np.array(np.array([[[0.0, 0.5, float(\"nan\")], [2.0, 4.0, float(\"nan\")], [float(\"nan\"), float(\"nan\"), float(\"nan\")]], [[0.0, 2.5, float(\"nan\")], [6.0, 5.0, float(\"nan\")], [float(\"nan\"), float(\"nan\"), float(\"nan\")]]]))\n",
    "z = np.array(np.array([[[0.0, 0.5, float(\"nan\")], [5.0, 3.0, float(\"nan\")], [float(\"nan\"), float(\"nan\"), float(\"nan\")]],[[0.0, 3.5, float(\"nan\")], [3.0, 3.0, float(\"nan\")], [float(\"nan\"), float(\"nan\"), float(\"nan\")]]]))\n",
    "\n",
    "x2 = np.array(np.array([[[0.0, 1.5, float(\"nan\")], [6.0, 3.0, float(\"nan\")], [float(\"nan\"), float(\"nan\"), float(\"nan\")]]]))\n",
    "y2 = np.array(np.array([[[0.0, 2.5, float(\"nan\")], [6.0, 5.0, float(\"nan\")], [float(\"nan\"), float(\"nan\"), float(\"nan\")]]]))\n",
    "z2 = np.array(np.array([[[0.0, 3.5, float(\"nan\")], [3.0, 3.0, float(\"nan\")], [float(\"nan\"), float(\"nan\"), float(\"nan\")]]]))\n",
    "\n",
    "f = ipv.figure()\n",
    "s = ipv.plot_wireframe(x, y, z, wrapx=False, wrapy=False)\n",
    "# s2 = ipv.plot_wireframe(x2, y2, z2)\n",
    "#ipv.xyzlim(-1, 1)\n",
    "# # fig = gcf()\n",
    "ipv.figure.animation_exponent = 0\n",
    "ipv.animation_control(s)# shows controls for animation controls\n",
    "ipv.show()\n",
    "#ipv.save(\"example.html\")"
   ]
  },
  {
   "cell_type": "code",
   "execution_count": null,
   "metadata": {},
   "outputs": [],
   "source": [
    "import matplotlib.pyplot as plt\n",
    "for x_, y_, z_ in zip(x,y,z):\n",
    "    plt.plot(x_)\n",
    "    plt.plot(y_)\n",
    "    plt.plot(z_)"
   ]
  },
  {
   "cell_type": "code",
   "execution_count": null,
   "metadata": {},
   "outputs": [],
   "source": [
    "x, y, z, u, v = ipv.examples.klein_bottle(draw=False)\n",
    "x.shape, y.shape ,z.shape\n",
    "ipv.figure()\n",
    "m = ipv.plot_mesh(x, y, z, wireframe=True, surface=False)\n",
    "ipv.animation_control(s)\n",
    "ipv.squarelim()\n",
    "ipv.show()"
   ]
  },
  {
   "cell_type": "code",
   "execution_count": null,
   "metadata": {},
   "outputs": [],
   "source": []
  }
 ],
 "metadata": {
  "kernelspec": {
   "display_name": "Python 3",
   "language": "python",
   "name": "python3"
  },
  "language_info": {
   "codemirror_mode": {
    "name": "ipython",
    "version": 3
   },
   "file_extension": ".py",
   "mimetype": "text/x-python",
   "name": "python",
   "nbconvert_exporter": "python",
   "pygments_lexer": "ipython3",
   "version": "3.6.9"
  }
 },
 "nbformat": 4,
 "nbformat_minor": 4
}

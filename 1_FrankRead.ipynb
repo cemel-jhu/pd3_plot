{
 "cells": [
  {
   "cell_type": "markdown",
   "metadata": {},
   "source": [
    "This deliverable will be to document and test a `create_frank_read` function that should take in a slip-plane, a line direction, and a burger's vector."
   ]
  },
  {
   "cell_type": "code",
   "execution_count": null,
   "metadata": {},
   "outputs": [],
   "source": [
    "def create_frank_read(study, plane, line_direction, burgers,\n",
    "                      offset=0, length=100, is_sessile=False):\n",
    "    \"\"\"! \\brief Creates a frank read source in the provded system.\n",
    "\n",
    "    Given a slip_plane, line direction and burgers vector, this function creates a frank read source. In\n",
    "    addition, this function will throw an error if the provided burgers vector, line direction,\n",
    "    slip_plane is sessile.\n",
    "    \\param study Study to create the source.\n",
    "    \\param plane The slip plane which the burger's vector resides.\n",
    "    \\param line_direction The line direction of the source.\n",
    "    \\param burgers The burgers vector of the source.\n",
    "    \\param offset The center of the source.\n",
    "    \\param length The length of the source.\n",
    "    \\param is_sessile If the provided parameters do not match this, an error will be thrown.\n",
    "    \"\"\"\n",
    "    # TODO: Check whether what is provides is or is not sessile, and throw an error if needed.\n",
    "    # TODO: Create source\n",
    "\n",
    "# Additional\n",
    "# TODO: Write unit tests to validate code \n",
    "# TODO: Plot and run the study with previous function\n",
    "# TODO extra: Can we make movies?"
   ]
  }
 ],
 "metadata": {
  "language_info": {
   "codemirror_mode": {
    "name": "ipython",
    "version": 3
   },
   "file_extension": ".py",
   "mimetype": "text/x-python",
   "name": "python",
   "nbconvert_exporter": "python",
   "pygments_lexer": "ipython3",
   "version": 3
  },
  "orig_nbformat": 2
 },
 "nbformat": 4,
 "nbformat_minor": 2
}
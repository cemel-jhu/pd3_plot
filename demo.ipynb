{
 "cells": [
  {
   "cell_type": "code",
   "execution_count": null,
   "metadata": {
    "scrolled": true
   },
   "outputs": [],
   "source": [
    "from pd3.proto import study_pb2\n",
    "import pd3_plot\n",
    "\n",
    "# This loads up spaghetti directly instead of creating a pd3 study.\n",
    "with open('series.pbtxt', 'rb') as f:\n",
    "    study_proto = study_pb2.Series()\n",
    "    text_format.Parse(f.read(), study_proto)\n",
    "\n",
    "plotter = pd3_plot.Plotter(study_proto)"
   ]
  },
  {
   "cell_type": "code",
   "execution_count": null,
   "metadata": {},
   "outputs": [],
   "source": [
    "# Color schemes that can be passed in: \"rainbow\" or \"pastel\"\n",
    "plotter.plot_2D(color_scheme = \"rainbow\")"
   ]
  },
  {
   "cell_type": "code",
   "execution_count": null,
   "metadata": {},
   "outputs": [],
   "source": [
    "# Color schemes that can be passed in: \"rainbow\" or \"pastel\"\n",
    "plotter.plot_2D(color_scheme = \"pastel\", x_axis=(1, 1, -2), y_axis=(1, -1, 0), timestep=3)"
   ]
  },
  {
   "cell_type": "code",
   "execution_count": null,
   "metadata": {},
   "outputs": [],
   "source": [
    "plotter.plot_3D(color_scheme = \"rainbow\")"
   ]
  }
 ],
 "metadata": {
  "kernelspec": {
   "display_name": "Python 3",
   "language": "python",
   "name": "python3"
  },
  "language_info": {
   "codemirror_mode": {
    "name": "ipython",
    "version": 3
   },
   "file_extension": ".py",
   "mimetype": "text/x-python",
   "name": "python",
   "nbconvert_exporter": "python",
   "pygments_lexer": "ipython3",
   "version": "3.8.2"
  }
 },
 "nbformat": 4,
 "nbformat_minor": 4
}

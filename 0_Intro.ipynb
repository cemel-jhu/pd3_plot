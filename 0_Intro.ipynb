{
 "cells": [
  {
   "cell_type": "markdown",
   "metadata": {},
   "source": [
    "###### Thanks for joining us!\n",
    "\n",
    "This is a sample python notebook where we expect you'll be pending a lot of your time. Notebooks are great because not only can you [write notes in markdown](https://guides.github.com/features/mastering-markdown/), and [math in $\\LaTeX$](https://www.overleaf.com/learn/latex/Learn_LaTeX_in_30_minutes), but you can write code too! Check this out:"
   ]
  },
  {
   "cell_type": "code",
   "execution_count": 1,
   "metadata": {},
   "outputs": [
    {
     "name": "stdout",
     "output_type": "stream",
     "text": [
      "Hello World\n"
     ]
    }
   ],
   "source": [
    "print(\"Hello World\")"
   ]
  },
  {
   "cell_type": "markdown",
   "metadata": {},
   "source": [
    "Our lab studies material deformation at a mesoscale. Think of a spring (TODO)\n",
    "\n",
    "In discrete dislocation dynamics, we typically think of these of these lattice mismatches (or dislocations) [as similar to a graph](https://www.youtube.com/watch?v=ZHqQDA3be-k). This is a pretty fun area of math, I'm sad all the examples I found online were pretty boring. Notably, we DO care where the vertices (we call them nodes) are, and DO care about additional physical information assosiated with the edges (or segments as we refer to them). However, treating DDD as a graph problem makes it easier for use when programming."
   ]
  },
  {
   "cell_type": "markdown",
   "metadata": {},
   "source": [
    "## Learning goals of 1st week:\n",
    "\n",
    " - Learn basic material science intuition for what our lab does\n",
    " - Learn some basic python to get up to speed\n",
    " - Learn some discrete math, graph theory, and algorithms\n",
    " - Learn some basic linear algebra"
   ]
  },
  {
   "cell_type": "markdown",
   "metadata": {},
   "source": [
    "## First deliverable\n",
    "\n",
    "We have a python library backed by a more powerful C++ framework. Our current method for visualizing our dislocations systems, is to export our simulations and open them in paraview. Jupyter notebooks let us make plots right here! For example:"
   ]
  },
  {
   "cell_type": "code",
   "execution_count": 2,
   "metadata": {},
   "outputs": [
    {
     "data": {
      "text/plain": [
       "array([100,  81,  64,  49,  36,  25,  16,   9,   4,   1,   0,   1,   4,\n",
       "         9,  16,  25,  36,  49,  64,  81, 100])"
      ]
     },
     "execution_count": 2,
     "metadata": {},
     "output_type": "execute_result"
    }
   ],
   "source": [
    "import numpy as np\n",
    "x = np.arange(-10, 11)\n",
    "for i, val in enumerate(x):\n",
    "    x[i] = val * val\n",
    "x"
   ]
  },
  {
   "cell_type": "code",
   "execution_count": 3,
   "metadata": {},
   "outputs": [
    {
     "data": {
      "image/png": "[encoded data removed]",
      "text/plain": [
       "<Figure size 432x288 with 1 Axes>"
      ]
     },
     "metadata": {},
     "output_type": "display_data"
    }
   ],
   "source": [
    "# Package for plotting in python\n",
    "import matplotlib.pyplot as plt\n",
    "\n",
    "# Seaborn makes matplotlib charts prettier.\n",
    "import seaborn as sns\n",
    "sns.set()\n",
    "\n",
    "# Numpy is a great package for doing math.\n",
    "import numpy as np\n",
    "\n",
    "# You probably remember quadratic equations\n",
    "# y = x^2\n",
    "# We're just going to calculate and plot that\n",
    "x = np.arange(-10, 11) # -10, -9, .. 10\n",
    "y = x**2               # 100, 81, .. 100\n",
    "\n",
    "# We can now set up our plotting guidlines\n",
    "plt.title(\"It's a quadratic!\")\n",
    "plt.xlim((-10, 10))\n",
    "plt.ylim((0, 100))\n",
    "plt.xlabel(\"my x\")\n",
    "plt.ylabel(\"y\")\n",
    "\n",
    "# And finally we plot\n",
    "plt.plot(x, y)\n",
    "plt.show()"
   ]
  },
  {
   "cell_type": "markdown",
   "metadata": {},
   "source": [
    "We would like a way to plot our dislocation networks right in jupyter. Currently this functionality does not exist. Documentation of our library can be found [here](https://dmadisetti.github.io/pd3/api-py-pd3--python--core--Study/). An example of using our library is as follows:"
   ]
  },
  {
   "cell_type": "code",
   "execution_count": 19,
   "metadata": {},
   "outputs": [
    {
     "data": {
      "text/plain": [
       "True"
      ]
     },
     "execution_count": 19,
     "metadata": {},
     "output_type": "execute_result"
    }
   ],
   "source": [
    "# pd3 is our library!\n",
    "# it stands for: parallel discrete partial dislocation + precipitate dynamics \n",
    "# but really, it's just fun to say\n",
    "import pd3\n",
    "from pd3.proto.study_pb2 import IMMOBILE\n",
    "\n",
    "# A \"normal\" vector is a vector that is length 1 from the origin (0,0).\n",
    "# This makes any vector \"normal\"\n",
    "def normalize(a, b, c):\n",
    "    \"\"\"Creates a unit vector from a, b, c\"\"\"\n",
    "    vector = np.array([a, b, c])\n",
    "    return vector / np.linalg.norm(vector)\n",
    "\n",
    "# This is the 'plane normal'. A plane cuts through 3D space, and the normal, is perpendicular to all vectors on the plane. That is normal \\dot vector = 0\n",
    "normal = normalize(1, 1, 1)\n",
    "\n",
    "# These are directions on the plane. We can chose any 2 vectors to be our 'basis', but these are nice\n",
    "# and relevant to crystallography in FCC materials.\n",
    "# Note y_dir dot x_dir = 0, but also\n",
    "# x_dir dot normal = y_dir dot normal = 0!\n",
    "y_direction = normalize(-1, 1, 0)\n",
    "x_direction = normalize(1, 1, -2)\n",
    "\n",
    "# Burger's direction is a means of measuring the type and magnitude of the lattice mismatches.\n",
    "# This will come up much more. It is physically derived from something called a burger's circut\n",
    "# which I can touch on more later.\n",
    "burgers = pd3.Burgers((1, 0, -1))\n",
    "\n",
    "# We're going to make a parabola shape just like the previous example.\n",
    "# But since we're in 3D, we need to handle the equation a little differently.\n",
    "def in_plane_quadratic(x):\n",
    "    y = x**2\n",
    "    return x * x_direction + y * y_direction\n",
    "\n",
    "# All pd3 usage starts off with creating a study.\n",
    "example = pd3.Study()\n",
    "\n",
    "# Start off our parabola\n",
    "# Here we make a node, or vertex.\n",
    "# We'll later \"connect\" vertices together to make an edge or segment.\n",
    "# We note that the node is \"IMMOBILE\", which means it can't move during\n",
    "# our simulations.\n",
    "start = example.create_node(\n",
    "    in_plane_quadratic(-4), # This is the position in space\n",
    "    IMMOBILE # This is the type of node, which means it's fixed in space.\n",
    ")\n",
    "old_node = start\n",
    "\n",
    "# Create a node for each step, and connect each next\n",
    "# step to the previous step.\n",
    "for x in range(-3, 7):\n",
    "    new_node = example.create_node(\n",
    "        in_plane_quadratic(x), # The position in space changes with x\n",
    "    )\n",
    "    # We make the segment by connecting 2 nodes.\n",
    "    example.connect(old_node, new_node, burgers)\n",
    "    # We set the old_node to new node for the next loop.\n",
    "    old_node = new_node\n",
    "\n",
    "# Add the end to our parabola!\n",
    "end = example.create_node(\n",
    "    in_plane_quadratic(6), # The other side of the quadratic\n",
    "    IMMOBILE # This end is also fixed.\n",
    ")\n",
    "example.connect(old_node, end, burgers)\n"
   ]
  },
  {
   "cell_type": "code",
   "execution_count": 5,
   "metadata": {},
   "outputs": [
    {
     "data": {
      "text/plain": [
       "True"
      ]
     },
     "execution_count": 5,
     "metadata": {},
     "output_type": "execute_result"
    }
   ],
   "source": [
    "# We're going to make a parabola shape just like the previous example.\n",
    "# But since we're in 3D, we need to handle the equation a little differently.\n",
    "def fancy_quadratic(x):\n",
    "    y = -3*x**2 + 200*x + 2800\n",
    "#     y = 1*x**2 + 10*x + 10\n",
    "#     y = -8*x**4 + 3908*x + 90000 #by changing this, you change the shape of the graph\n",
    "#     y = -9*x**7 + 99*x + 900\n",
    "#     y = -2*x**2 + 400*x + 3000\n",
    "#     y = -2*x**2 + 500*x + 800\n",
    "#     y = -3*x**1 + 300*x + 5000\n",
    "    return x * x_direction + y * y_direction\n",
    "\n",
    "# burgers = pd3.Burgers((-1, 1, 0))\n",
    "# alt_burgers = pd3.Burgers((1, 0, -1))\n",
    "alt_burgers = pd3.Burgers((1, -1, 0))\n",
    "\n",
    "# Start off our parabola\n",
    "# Here we make a node, or vertex.\n",
    "# We'll later \"connect\" vertices together to make an edge or segment.\n",
    "# We note that the node is \"IMMOBILE\", which means it can't move during\n",
    "# our simulations.\n",
    "start = example.create_node(\n",
    "    fancy_quadratic(-4), # This is the position in space\n",
    "    IMMOBILE # This is the type of node, which means it's fixed in space.\n",
    ")\n",
    "old_node = start\n",
    "\n",
    "# Create a node for each step, and connect each next\n",
    "# step to the previous step.\n",
    "for x in range(-4, 6):\n",
    "    new_node = example.create_node(\n",
    "        fancy_quadratic(x), # The position in space changes with x\n",
    "    )\n",
    "    # We make the segment by connecting 2 nodes.\n",
    "    example.connect(old_node, new_node, alt_burgers)\n",
    "    # We set the old_node to new node for the next loop.\n",
    "    old_node = new_node\n",
    "\n",
    "# Add the end to our parabola!\n",
    "end = example.create_node(\n",
    "    fancy_quadratic(6), # The other side of the quadratic\n",
    "    IMMOBILE # This end is also fixed.\n",
    ")\n",
    "example.connect(old_node, end, burgers)\n"
   ]
  },
  {
   "cell_type": "code",
   "execution_count": 6,
   "metadata": {},
   "outputs": [],
   "source": [
    "# Convert our system into a graph for plotting\n",
    "graph = example.export_protobuf()"
   ]
  },
  {
   "cell_type": "code",
   "execution_count": 7,
   "metadata": {},
   "outputs": [
    {
     "data": {
      "text/plain": [
       "(70706576, type: MOBILE)"
      ]
     },
     "execution_count": 7,
     "metadata": {},
     "output_type": "execute_result"
    }
   ],
   "source": [
    "# Here's an example of how to break up our graph to get the edges and vertices.\n",
    "timestep = 0\n",
    "vertices = graph.state[timestep].nodes\n",
    "edges = graph.state[timestep].links\n",
    "\n",
    "# We can now choose an edge, find the id of one of the nodes, and then get a node.\n",
    "index = 0\n",
    "sample_node_id = edges[index].leading\n",
    "sample_node = vertices[sample_node_id]\n",
    "sample_node_id, sample_node"
   ]
  },
  {
   "cell_type": "code",
   "execution_count": 8,
   "metadata": {},
   "outputs": [
    {
     "data": {
      "text/plain": [
       "array([1, 0, 0])"
      ]
     },
     "execution_count": 8,
     "metadata": {},
     "output_type": "execute_result"
    }
   ],
   "source": [
    "x_axis=(1, 0, 0)\n",
    "\n",
    "x_axis = np.array(x_axis)\n",
    "x_axis"
   ]
  },
  {
   "cell_type": "markdown",
   "metadata": {},
   "source": [
    "## Note\n",
    "\n",
    "You'll notice that the points are in 3d, while plots can only really be done in 2d. So we need to prescribe the x, y axis in 3D space to come up with a 3D plot. One you feel comfortable with the content your first task will be to fill out the following function."
   ]
  },
  {
   "cell_type": "code",
   "execution_count": null,
   "metadata": {},
   "outputs": [],
   "source": []
  },
  {
   "cell_type": "code",
   "execution_count": 9,
   "metadata": {
    "scrolled": true
   },
   "outputs": [
    {
     "data": {
      "application/vnd.jupyter.widget-view+json": {
       "model_id": "0ad3766fdd5443e18d564a40e6376c09",
       "version_major": 2,
       "version_minor": 0
      },
      "text/plain": [
       "VBox(children=(Figure(camera=PerspectiveCamera(fov=46.0, position=(0.0, 0.0, 2.0), quaternion=(0.0, 0.0, 0.0, …"
      ]
     },
     "metadata": {},
     "output_type": "display_data"
    }
   ],
   "source": [
    "# Dylan: Check this out! Give it a run. Click and drag as well\n",
    "\n",
    "import ipyvolume as ipv\n",
    "import numpy as np\n",
    "s = 1/2**0.5\n",
    "# 4 vertices for the tetrahedron\n",
    "x = np.array([1.,  -1, 0,  0])\n",
    "y = np.array([0,   0, 1., -1])\n",
    "z = np.array([-s, -s, s,  s])\n",
    "# and 4 surfaces (triangles), where the number refer to the vertex index\n",
    "triangles = [(0, 1, 2), (0, 1, 3), (0, 2, 3), (1,3,2)]\n",
    "ipv.figure()\n",
    "# we draw the tetrahedron\n",
    "mesh = ipv.pylab.plot(x, y, z)\n",
    "# and also mark the vertices\n",
    "ipv.pylab.style.use(\"fivethirtyeight\")\n",
    "ipv.scatter(x, y, z, marker='sphere')\n",
    "ipv.xyzlim(-2, 2)\n",
    "ipv.show()"
   ]
  },
  {
   "cell_type": "code",
   "execution_count": 10,
   "metadata": {
    "scrolled": true
   },
   "outputs": [
    {
     "name": "stderr",
     "output_type": "stream",
     "text": [
      "/usr/local/lib/python3.6/dist-packages/ipykernel_launcher.py:21: RuntimeWarning: invalid value encountered in power\n"
     ]
    },
    {
     "data": {
      "application/vnd.jupyter.widget-view+json": {
       "model_id": "807c946779fc40edbe55ff9f4d882234",
       "version_major": 2,
       "version_minor": 0
      },
      "text/plain": [
       "VBox(children=(Figure(camera=PerspectiveCamera(fov=46.0, position=(0.0, 0.0, 2.0), quaternion=(0.0, 0.0, 0.0, …"
      ]
     },
     "metadata": {},
     "output_type": "display_data"
    }
   ],
   "source": [
    "#Daria messing around\n",
    "import ipyvolume as ipv\n",
    "import numpy as np\n",
    "# s = 1/2**0.1#this affects how spread out the lines are bc we use it later as z(how 3d it is?)\n",
    "# # 4 vertices for the tetrahedron\n",
    "# x = np.array([1.,  -1, 0,  0, 0])\n",
    "# y = np.array([0,   0, 1., -1, -1])\n",
    "# z = np.array([-s, -s, s,  s, -s])\n",
    "# # and 4 surfaces (triangles), where the number refer to the vertex index\n",
    "# triangles = [(0, 1, 2), (0, 1, 3), (0, 2, 3), (1,3,2), (4,3,4)]\n",
    "# ipv.figure\n",
    "# # we draw the tetrahedron\n",
    "# mesh = ipv.plot_trisurf(x, y, z, triangles=triangles, color='orange')\n",
    "# # and also mark the vertices\n",
    "\n",
    "# f(u, v) -> (u, v, u*v**2)\n",
    "a = np.arange(-5, 5)\n",
    "U, V = np.meshgrid(a, a)\n",
    "X = U\n",
    "Y = V\n",
    "Z = X*Y**0.5\n",
    "ipv.figure()\n",
    "ipv.plot_surface(X, Z, Y,)\n",
    "ipv.plot_wireframe(X, Z, Y, color='blue')\n",
    "ipv.show()"
   ]
  },
  {
   "cell_type": "code",
   "execution_count": 11,
   "metadata": {
    "scrolled": true
   },
   "outputs": [
    {
     "data": {
      "text/plain": [
       "[<matplotlib.lines.Line2D at 0x7efcd5bc28d0>]"
      ]
     },
     "execution_count": 11,
     "metadata": {},
     "output_type": "execute_result"
    },
    {
     "data": {
      "image/png": "[encoded data removed]",
      "text/plain": [
       "<Figure size 432x288 with 1 Axes>"
      ]
     },
     "metadata": {},
     "output_type": "display_data"
    }
   ],
   "source": [
    "# Maybe you want: import ipyvolume as ipv\n",
    "# https://ipyvolume.readthedocs.io/en/latest/examples/mesh.html\n",
    "# ipvol\n",
    "\n",
    "import matplotlib.pyplot as plt\n",
    "\n",
    "plt.title(\"My plot!\")\n",
    "#plt.plot([1, 0], [1, 1], \"o-\")\n",
    "#plt.xlim(-1, 1.5)\n",
    "#plt.ylim(-1, 1.5)\n",
    "\n",
    "# Example 3D -> 2D\n",
    "somepoint = np.array([1, 2, 3])\n",
    "\n",
    "# NOTE axes should be normalized first\n",
    "x_axis = np.array((1,1,0))\n",
    "y_axis = np.array((1,-1,0))\n",
    "\n",
    "x_component = x_axis.dot(somepoint)\n",
    "y_component = x_axis.dot(somepoint)\n",
    "\n",
    "plt.plot([x_component], [y_component], \"o\")\n"
   ]
  },
  {
   "cell_type": "code",
   "execution_count": 12,
   "metadata": {},
   "outputs": [
    {
     "data": {
      "image/png": "[encoded data removed]",
      "text/plain": [
       "<Figure size 432x288 with 1 Axes>"
      ]
     },
     "metadata": {},
     "output_type": "display_data"
    }
   ],
   "source": [
    "#plot study using line collection\n",
    "import pd3\n",
    "from pd3.proto.study_pb2 import IMMOBILE\n",
    "import matplotlib.pyplot as plt\n",
    "import numpy as np\n",
    "from matplotlib import collections  as mc\n",
    "import matplotlib.cm as cm\n",
    "import pylab as pl\n",
    "from matplotlib import colors as mcolors\n",
    "\n",
    "\n",
    "def plot_study(study, x_axis=(1, 0, 0), y_axis=(0, 1, 0), timestep = 0):\n",
    "    \"\"\"! \\brief Plots the dislocation system at the given timestep.\n",
    "\n",
    "    Plots a given dislocation system with orthogonal axes.\n",
    "    \\param study Self instance.\n",
    "    \\param x_axis The x axis to project the system on.\n",
    "    \\param y_axis The y axis to projec the system on.\n",
    "    \\param timestep The timestep to plot.\n",
    "    \"\"\"\n",
    "    # Ensure x_axis, y_axis are normalized\n",
    "    x_axis = np.array(x_axis)\n",
    "    x_axis = x_axis / np.linalg.norm(x_axis)\n",
    "    y_axis = np.array(y_axis)\n",
    "    y_axis = y_axis / np.linalg.norm(y_axis)\n",
    "    \n",
    "    # https://numpy.org/doc/stable/\n",
    "    if x_axis.dot(y_axis) != 0:\n",
    "        raise pd3.Pd3Exception(\"Provided axes are not normal.\")\n",
    "\n",
    "    # Convert our system into a graph for plotting\n",
    "    # Note that the grpah is in protobuf format:\n",
    "    # https://developers.google.com/protocol-buffers/docs/pythontutorial#the-protocol-buffer-api\n",
    "    # In addition, fields can found in the provided documentation:\n",
    "    # https://dmadisetti.github.io/pd3/api-proto-study/\n",
    "    graph = study.export_protobuf()\n",
    "\n",
    "    # Here's an example of how to break up our graph to get the edges and vertices.\n",
    "    vertices = graph.state[timestep].nodes\n",
    "    edges = graph.state[timestep].links\n",
    "\n",
    "    # TODO: Plot the study with matplotlib\n",
    "    # Store information from loop, and then plot it!\n",
    "    # We can now choose an edge, find the id of one of the nodes, and then get a node.\n",
    "    # Dylan: I think you're close, but there may be an easier way. See next comment\n",
    "        # Dylan: So we need some way of converting leading in 3d space to\n",
    "        # leading in 2d space, and trailing in 3d space to 2d space.\n",
    "        # These transformations are independent of each other\n",
    "        # (leading doesn't effect trailing and visa versa)\n",
    "        # leading_2d_x = x_axis.dot(leading_3d)\n",
    "        # ... the others\n",
    "        # and then add those computations to an array: x_data.append(leading_2d_x)\n",
    "        \n",
    "    y_data = []\n",
    "    x_data = []\n",
    "    lines = []\n",
    "    for edge in edges:\n",
    "        # TODO: something with edge and the node IDs\n",
    "        leading_id = edge.leading\n",
    "        trailing_id = edge.trailing\n",
    "        leading = vertices[leading_id]\n",
    "        trailing = vertices[trailing_id]\n",
    "        \n",
    "        \n",
    "        leading_3d = np.array([leading.x, leading.y, leading.z])\n",
    "        trailing_3d = np.array([trailing.x, trailing.y, trailing.z])\n",
    "        leading_2d_x = x_axis.dot(leading_3d)\n",
    "        trailing_2d_x = x_axis.dot(trailing_3d)\n",
    "        leading_2d_y = y_axis.dot(leading_3d)\n",
    "        trailing_2d_y = y_axis.dot(trailing_3d)\n",
    "        y_data.append(trailing_2d_y)\n",
    "        x_data.append(trailing_2d_x)\n",
    "        y_data.append(leading_2d_y)\n",
    "        x_data.append(leading_2d_x)\n",
    "        lines.append([(leading_2d_x, leading_2d_y), (trailing_2d_x, trailing_2d_y)])   \n",
    "    \n",
    "    \n",
    "    #colors using vectors\n",
    "   \n",
    "    \n",
    "   #using line collection\n",
    "#     colors = [mcolors.to_rgba(c)\n",
    "#         for c in plt.rcParams['axes.prop_cycle'].by_key()['color']]\n",
    "    lc = mc.LineCollection(lines, linewidths = (2.5), colors = ['y'], linestyle='solid')\n",
    "    fig, ax = pl.subplots()\n",
    "    ax.add_collection(lc)\n",
    "    ax.autoscale\n",
    "    ax.margins(0.1)\n",
    "#     ax.quiver(leading_2d_x, leading_2d_y, trailing_2d_x, trailing_2d_y)\n",
    " \n",
    "    \n",
    "    plt.title(\"Plot Study\")\n",
    "#     plt.    (leading.x, leading.y)\n",
    "#     plt.(leading.x, leading.y)\n",
    "    plt.xlabel(\"x\")\n",
    "    plt.ylabel(\"y\")\n",
    "#     plt.plot([x_data, y_data, [alt_burgers]])\n",
    "    \n",
    "    plt.plot(x_data, y_data,'o')\n",
    "\n",
    "    # Dylan: Cool! I see you're starting to plot.\n",
    "    # Since you put this in the loop body, just a note, that this will be run for\n",
    "    # _every_ edge. Which might not be something you want.\n",
    "    \n",
    "    \n",
    "x = normalize(1,0,0)\n",
    "y = normalize(0,1,0)\n",
    "    \n",
    "study = pd3.Study()\n",
    "start = study.create_node((-2,3,-1), IMMOBILE)\n",
    "# TODO: This should make a pretty similar graph to the standard quadratic graph above.\n",
    "plot_study(example, (1,1,0), (1,-1,0)) # this gave me an upside down parabola\n",
    "#plot_study(example, (1,2,1), (1,-1,1)) # the second time i ran this i got a straight line, the first time it was just one point\n",
    "#plot_study(example, (1,-1,1), (1,1,0)) #this gave me a parabola that opened up towards the left\n",
    "#plot_study(example, (1,1,1), (1,-1,0)) #this gave me a straight line"
   ]
  },
  {
   "cell_type": "code",
   "execution_count": 13,
   "metadata": {
    "scrolled": true
   },
   "outputs": [
    {
     "name": "stdout",
     "output_type": "stream",
     "text": [
      "NEW BRANCH\n",
      "NEW BRANCH\n",
      "Not Visited: {70706432, 71019024, 70706576, 71746960, 58190736, 71182224, 59096368, 66016304, 54999856, 55054000, 58153392, 62712112, 64604080, 57770304, 69005632, 47099200, 69005776, 47099344, 72854864, 61535968, 72908768, 61536112}\n",
      "NEW BRANCH\n",
      "NEW BRANCH\n",
      "NEW BRANCH\n",
      "Not Visited: {70706432, 71019024, 70706576, 71746960, 58190736, 71182224, 59096368, 55054000, 58153392, 62712112, 64604080, 57770304, 69005632, 47099200, 69005776, 47099344, 72854864, 61535968, 72908768, 61536112}\n",
      "NEW BRANCH\n",
      "NEW BRANCH\n",
      "Not Visited: {70706432, 71019024, 70706576, 71746960, 58190736, 71182224, 59096368, 58153392, 62712112, 64604080, 57770304, 69005632, 47099200, 69005776, 47099344, 72854864, 61535968, 72908768, 61536112}\n",
      "NEW BRANCH\n",
      "NEW BRANCH\n",
      "NEW BRANCH\n",
      "Not Visited: {70706432, 71019024, 70706576, 71746960, 71182224, 59096368, 58153392, 62712112, 64604080, 57770304, 69005632, 47099200, 69005776, 47099344, 72854864, 61535968, 72908768}\n",
      "NEW BRANCH\n",
      "NEW BRANCH\n",
      "NEW BRANCH\n",
      "Not Visited: {70706432, 71019024, 70706576, 71746960, 71182224, 59096368, 64604080, 57770304, 69005632, 47099200, 69005776, 47099344, 72854864, 61535968, 72908768}\n",
      "Not Visited: {70706432, 71019024, 70706576, 71746960, 71182224, 59096368, 64604080, 57770304, 69005632, 47099200, 69005776, 47099344, 72854864, 61535968, 72908768}\n",
      "NEW BRANCH\n",
      "Not Visited: {70706432, 71019024, 70706576, 71746960, 71182224, 59096368, 64604080, 57770304, 69005632, 47099200, 69005776, 47099344, 72854864, 61535968, 72908768}\n",
      "Not Visited: {70706432, 71019024, 70706576, 71746960, 71182224, 59096368, 64604080, 57770304, 69005632, 47099200, 69005776, 47099344, 72854864, 61535968, 72908768}\n",
      "Not Visited: {70706432, 71019024, 70706576, 71746960, 71182224, 59096368, 64604080, 57770304, 69005632, 47099200, 69005776, 47099344, 72854864, 61535968, 72908768}\n",
      "NEW BRANCH\n",
      "Not Visited: {70706432, 71019024, 70706576, 71746960, 71182224, 59096368, 64604080, 57770304, 69005632, 47099200, 69005776, 47099344, 72854864, 61535968, 72908768}\n",
      "Not Visited: {70706432, 71019024, 70706576, 71746960, 71182224, 59096368, 64604080, 57770304, 69005632, 47099200, 69005776, 47099344, 72854864, 61535968, 72908768}\n",
      "Not Visited: {70706432, 71019024, 70706576, 71746960, 71182224, 59096368, 64604080, 57770304, 69005632, 47099200, 69005776, 47099344, 72854864, 61535968, 72908768}\n",
      "Not Visited: {70706432, 71019024, 70706576, 71746960, 71182224, 59096368, 64604080, 57770304, 69005632, 47099200, 69005776, 47099344, 72854864, 61535968, 72908768}\n",
      "NEW BRANCH\n",
      "Not Visited: {70706432, 71019024, 70706576, 71746960, 71182224, 59096368, 64604080, 57770304, 69005632, 47099200, 69005776, 47099344, 72854864, 61535968, 72908768}\n",
      "Not Visited: {70706432, 71019024, 70706576, 71746960, 71182224, 59096368, 64604080, 57770304, 69005632, 47099200, 69005776, 47099344, 72854864, 61535968, 72908768}\n",
      "Not Visited: {70706432, 71019024, 70706576, 71746960, 71182224, 59096368, 64604080, 57770304, 69005632, 47099200, 69005776, 47099344, 72854864, 61535968, 72908768}\n",
      "NEW BRANCH\n",
      "NEW BRANCH\n",
      "Not Visited: {70706432, 71019024, 70706576, 71746960, 59096368, 64604080, 57770304, 69005632, 47099200, 69005776, 47099344, 72854864, 61535968, 72908768}\n",
      "NEW BRANCH\n",
      "NEW BRANCH\n",
      "NEW BRANCH\n",
      "Not Visited: {70706432, 71019024, 70706576, 71746960, 64604080, 57770304, 69005632, 47099200, 69005776, 47099344, 72854864, 61535968}\n",
      "Not Visited: {70706432, 71019024, 70706576, 71746960, 64604080, 57770304, 69005632, 47099200, 69005776, 47099344, 72854864, 61535968}\n",
      "NEW BRANCH\n",
      "Not Visited: {70706432, 71019024, 70706576, 71746960, 64604080, 57770304, 69005632, 47099200, 69005776, 47099344, 72854864, 61535968}\n",
      "Not Visited: {70706432, 71019024, 70706576, 71746960, 64604080, 57770304, 69005632, 47099200, 69005776, 47099344, 72854864, 61535968}\n",
      "Not Visited: {70706432, 71019024, 70706576, 71746960, 64604080, 57770304, 69005632, 47099200, 69005776, 47099344, 72854864, 61535968}\n",
      "NEW BRANCH\n",
      "NEW BRANCH\n",
      "Not Visited: {71019024, 70706576, 64604080, 57770304, 69005632, 47099200, 69005776, 47099344, 72854864, 61535968}\n",
      "NEW BRANCH\n",
      "NEW BRANCH\n",
      "NEW BRANCH\n",
      "Not Visited: {71019024, 70706576, 64604080, 57770304, 69005632, 69005776, 47099344, 72854864}\n",
      "NEW BRANCH\n",
      "NEW BRANCH\n",
      "NEW BRANCH\n",
      "NEW BRANCH\n",
      "Not Visited: {70706576, 57770304, 69005632, 69005776, 47099344}\n",
      "Not Visited: {70706576, 57770304, 69005632, 69005776, 47099344}\n",
      "NEW BRANCH\n",
      "Not Visited: {70706576, 57770304, 69005632, 69005776, 47099344}\n",
      "Not Visited: {70706576, 57770304, 69005632, 69005776, 47099344}\n",
      "NEW BRANCH\n",
      "Not Visited: {70706576, 57770304, 69005632, 69005776, 47099344}\n",
      "Not Visited: {70706576, 57770304, 69005632, 69005776, 47099344}\n",
      "Not Visited: {70706576, 57770304, 69005632, 69005776, 47099344}\n",
      "NEW BRANCH\n",
      "Not Visited: {70706576, 57770304, 69005632, 69005776, 47099344}\n",
      "Not Visited: {70706576, 57770304, 69005632, 69005776, 47099344}\n",
      "Not Visited: {70706576, 57770304, 69005632, 69005776, 47099344}\n",
      "NEW BRANCH\n",
      "NEW BRANCH\n",
      "NEW BRANCH\n",
      "Not Visited: {69005632, 69005776, 47099344}\n",
      "NEW BRANCH\n",
      "NEW BRANCH\n",
      "Not Visited: {69005632, 47099344}\n",
      "NEW BRANCH\n",
      "NEW BRANCH\n",
      "NEW BRANCH\n",
      "Not Visited: set()\n",
      "Not Visited: set()\n",
      "NEW BRANCH\n",
      "Not Visited: set()\n",
      "Not Visited: set()\n",
      "Not Visited: set()\n",
      "Not Visited: set()\n",
      "NEW BRANCH\n",
      "Not Visited: set()\n",
      "Not Visited: set()\n"
     ]
    },
    {
     "data": {
      "image/png": "[encoded data removed]",
      "text/plain": [
       "<Figure size 432x288 with 1 Axes>"
      ]
     },
     "metadata": {},
     "output_type": "display_data"
    }
   ],
   "source": [
    "#plot study using dfs\n",
    "\n",
    "import pd3\n",
    "from pd3.proto.study_pb2 import IMMOBILE\n",
    "import matplotlib.pyplot as plt\n",
    "import numpy as np\n",
    "from matplotlib import collections  as mcimport \n",
    "import matplotlib.cm as cm\n",
    "import pylab as pl\n",
    "\n",
    "\n",
    "def plot_study(study, x_axis=(1, 0, 0), y_axis=(0, 1, 0), timestep = 0):\n",
    "    \"\"\"! \\brief Plots the dislocation system at the given timestep.\n",
    "\n",
    "    Plots a given dislocation system with orthogonal axes.\n",
    "    \\param study Self instance.\n",
    "    \\param x_axis The x axis to project the system on.\n",
    "    \\param y_axis The y axis to projec the system on.\n",
    "    \\param timestep The timestep to plot.\n",
    "    \"\"\"\n",
    "    # Ensure x_axis, y_axis are normalized\n",
    "    x_axis = np.array(x_axis)\n",
    "    x_axis = x_axis / np.linalg.norm(x_axis)\n",
    "    y_axis = np.array(y_axis)\n",
    "    y_axis = y_axis / np.linalg.norm(y_axis)\n",
    "    \n",
    "    # https://numpy.org/doc/stable/\n",
    "    if x_axis.dot(y_axis) != 0:\n",
    "        raise pd3.Pd3Exception(\"Provided axes are not normal.\")\n",
    "\n",
    "    graph = study.export_protobuf()\n",
    "\n",
    "    # Here's an example of how to break up our graph to get the edges and vertices.\n",
    "    vertices = graph.state[timestep].nodes\n",
    "    edges = graph.state[timestep].links\n",
    "    g = {}\n",
    "    not_visited = set()\n",
    "    visited = set()\n",
    "    \n",
    "    \n",
    "    for edge in edges:\n",
    "        not_visited.add(edge.leading)\n",
    "        not_visited.add(edge.trailing)\n",
    "        leading_neighbors = g.get(edge.leading, [])\n",
    "        leading_neighbors.append(edge.trailing)\n",
    "        trailing_neighbors = g.get(edge.trailing, [])\n",
    "        trailing_neighbors.append(edge.leading)\n",
    "        g[edge.leading] = leading_neighbors\n",
    "        g[edge.trailing] = trailing_neighbors\n",
    "\n",
    "    node_vectors = {}\n",
    "    for node_id in vertices:\n",
    "        node = vertices[node_id]\n",
    "        node_3d = np.array([node.x, node.y, node.z])\n",
    "        node_x = x_axis.dot(node_3d)\n",
    "        node_y = y_axis.dot(node_3d)\n",
    "        node_vectors[node_id] = (node_x, node_y)\n",
    "        \n",
    "    \n",
    "    lines = []\n",
    "    def dfs(current, previous, line, numberNode):\n",
    "        numberNode = len(visited) + 1\n",
    "        if current in visited:\n",
    "            if line: # if line != []\n",
    "                lines.append(line)\n",
    "            return\n",
    "        visited.add(current) \n",
    "        if current in not_visited:\n",
    "            not_visited.remove(current)\n",
    "            \n",
    "        here = node_vectors[current]\n",
    "        #print(str(numberNode) + \") Line: \" + str(line) + \"    Curent: \" + str(current))\n",
    "        #print()\n",
    "        \n",
    "        #if you have to start a new branch, check the location and if it goes back, do not add to\n",
    "        # line until you start going in the other direction?\n",
    "        #everytime you have to go back to a different branch or direction, do not add to line until\n",
    "        #you are at the point, and then at the end go back and fill the gap?\n",
    "        \n",
    "        branch = line\n",
    "        branch.append(here)\n",
    "        \n",
    "        neighbors = g[current]\n",
    "        for node in neighbors: #this starts the new branches?\n",
    "            print (\"NEW BRANCH\")\n",
    "            if node != previous:\n",
    "                dfs(node, here, branch, 0)\n",
    "                branch = [node_vectors[current]]\n",
    "            print(\"Not Visited: \" + str(not_visited))\n",
    "    \n",
    "    while len(not_visited) > 0:\n",
    "        start_node = not_visited.pop()\n",
    "        dfs(start_node, None, [], 0)\n",
    "\n",
    "#    #using line collection\n",
    "    lc = mc.LineCollection(lines)\n",
    "    fig, ax = pl.subplots()\n",
    "    ax.add_collection(lc)\n",
    "    ax.autoscale()\n",
    "    ax.margins(0.1)\n",
    "#     ax.quiver(node_x, node_y, node_x, node_y)\n",
    "    plt.title(\"Plot Study\")\n",
    "    plt.xlabel(\"x\")\n",
    "    plt.ylabel(\"y\")\n",
    "    \n",
    "#     plt.plot(x_data, y_data,'o')\n",
    "\n",
    "x = normalize(1,0,0)\n",
    "y = normalize(0,1,0)\n",
    "    \n",
    "#study = pd3.Study()\n",
    "#start = study.create_node((-2,3,-1), IMMOBILE)\n",
    "# TODO: This should make a pretty similar graph to the standard quadratic graph above.\n",
    "plot_study(example, (1,1,0), (1,-1,0))\n",
    "\n",
    "\n",
    "#Start dfs at node zero\n",
    "\n",
    "# Extended goals\n",
    "\n",
    "# - Try and plot different colors based on BV\n",
    "\n",
    "# - Fix the DFS approach\n",
    "# - Try to get 3D working\n",
    "\n"
   ]
  },
  {
   "cell_type": "code",
   "execution_count": 28,
   "metadata": {},
   "outputs": [
    {
     "name": "stdout",
     "output_type": "stream",
     "text": [
      "28\n",
      "\n"
     ]
    },
    {
     "data": {
      "application/vnd.jupyter.widget-view+json": {
       "model_id": "41f4fa7945ee4b8fbb06d1e043a9b1f9",
       "version_major": 2,
       "version_minor": 0
      },
      "text/plain": [
       "VBox(children=(Figure(camera=PerspectiveCamera(fov=46.0, position=(0.0, 0.0, 2.0), quaternion=(0.0, 0.0, 0.0, …"
      ]
     },
     "metadata": {},
     "output_type": "display_data"
    }
   ],
   "source": [
    "#plot study using dfs in 3D\n",
    "\n",
    "import pd3\n",
    "from pd3.proto.study_pb2 import IMMOBILE\n",
    "import matplotlib.pyplot as plt\n",
    "import ipyvolume as ipv\n",
    "import numpy as np\n",
    "from matplotlib import collections  as mcimport \n",
    "import matplotlib.cm as cm\n",
    "import pylab as pl\n",
    "\n",
    "\n",
    "def plot_study3D(study, timestep = 0, do_scatter=False):\n",
    "    \"\"\"! \\brief Plots the dislocation system at the given timestep.\n",
    "\n",
    "    Plots a given dislocation system with orthogonal axes.\n",
    "    \\param study Self instance.\n",
    "    \\param x_axis The x axis to project the system on.\n",
    "    \\param y_axis The y axis to projec the system on.\n",
    "    \\param timestep The timestep to plot.\n",
    "    \"\"\"\n",
    "\n",
    "    graph = study.export_protobuf()\n",
    "    vertices = graph.state[timestep].nodes\n",
    "    edges = graph.state[timestep].links\n",
    "    g = {}\n",
    "    not_visited = set()\n",
    "    visited = set()\n",
    "    \n",
    "    for edge in edges:\n",
    "        not_visited.add(edge.leading)\n",
    "        not_visited.add(edge.trailing)\n",
    "        leading_neighbors = g.get(edge.leading, [])\n",
    "        leading_neighbors.append(edge.trailing)\n",
    "        trailing_neighbors = g.get(edge.trailing, [])\n",
    "        trailing_neighbors.append(edge.leading)\n",
    "        g[edge.leading] = leading_neighbors\n",
    "        g[edge.trailing] = trailing_neighbors\n",
    "\n",
    "    node_vectors = {}\n",
    "    for node_id in vertices:\n",
    "        node = vertices[node_id]\n",
    "        node_3d = np.array([node.x, node.y, node.z])\n",
    "        node_vectors[node_id] = node_3d\n",
    "\n",
    "    lines = []\n",
    "    \n",
    "    def dfs(current, previous, line, numberNode):\n",
    "        # Dylan: I moved all the definitions up here\n",
    "        neighbors = g[current]\n",
    "        here = node_vectors[current]\n",
    "        branch = line\n",
    "        branch.append(here)\n",
    "        # If this is our firt visit, then we should record this line.\n",
    "        # Otherwise, we're in a loop!\n",
    "        first_visit = current not in visited\n",
    "        # This is the end of a dislocation line because:\n",
    "        #       1) there's only 1 connection\n",
    "        #       2) and that cpnnection is previous\n",
    "        end_of_line = (len(neighbors) == 1 and neighbors[0] == previous)\n",
    "\n",
    "        # Even if it's the end of the line, we try to add it to previous.\n",
    "        visited.add(current)\n",
    "        if current in not_visited:\n",
    "            not_visited.remove(current)\n",
    "\n",
    "        # Now we check to see if we should stop and record the line.\n",
    "        if not first_visit or end_of_line:\n",
    "            lines.append(branch)\n",
    "            return\n",
    "\n",
    "        for node in neighbors: #this starts the new branches?\n",
    "#             print (\"NEW BRANCH\")\n",
    "#             print(node, previous)\n",
    "            if node != previous:\n",
    "                dfs(node, current, branch, 0)\n",
    "                branch = [node_vectors[current]]\n",
    "#             print(\"Not Visited: \" + str(not_visited))\n",
    "            \n",
    "            \n",
    "    while len(not_visited) > 0:\n",
    "        start_node = not_visited.pop()\n",
    "        dfs(start_node, 0, [], 0) \n",
    "#     print(lines)\n",
    "#     print(len(lines))\n",
    "    lines = np.array(lines)\n",
    "    length = len(lines)\n",
    "    fig = ipv.figure()\n",
    "    xs = []\n",
    "    ys = []\n",
    "    zs = []\n",
    "    x = []\n",
    "    y = []\n",
    "    z = []\n",
    "    print(len(lines))\n",
    "    print()\n",
    "    for line in lines:\n",
    "        x = []\n",
    "        y = []\n",
    "        z = []\n",
    "        for array in line:\n",
    "            x.append(array[0])\n",
    "            y.append(array[1])\n",
    "            z.append(array[2])\n",
    "        xs += x\n",
    "        ys += y\n",
    "        zs += z\n",
    "        x = np.array(x)\n",
    "        y = np.array(y)\n",
    "        z = np.array(z)\n",
    "        ipv.pylab.plot(x, y, z, color = 'blue')\n",
    "    xs = np.array(xs)\n",
    "    ys = np.array(ys)\n",
    "    zs = np.array(zs)\n",
    "    if do_scatter:\n",
    "        scatter = ipv.scatter(xs, ys, zs)\n",
    "\n",
    "    ipv.show()\n",
    "        \n",
    "\n",
    "x = normalize(1,0,0)\n",
    "y = normalize(0,1,0)\n",
    "    \n",
    "import pd3\n",
    "study = pd3.Study()\n",
    "study.load_file(\"/home/reap2020/notebooks/spaghetti.pb\")\n",
    "plot_study3D(study)"
   ]
  },
  {
   "cell_type": "code",
   "execution_count": 15,
   "metadata": {},
   "outputs": [
    {
     "name": "stdout",
     "output_type": "stream",
     "text": [
      "[1, 2, 3]\n"
     ]
    }
   ],
   "source": [
    "s = set()\n",
    "sArray = []\n",
    "\n",
    "s.add(1)\n",
    "s.add(2)\n",
    "s.add(3)\n",
    "sArray += s\n",
    "\n",
    "print(sArray)\n"
   ]
  },
  {
   "cell_type": "code",
   "execution_count": null,
   "metadata": {},
   "outputs": [],
   "source": []
  },
  {
   "cell_type": "code",
   "execution_count": 16,
   "metadata": {},
   "outputs": [
    {
     "data": {
      "application/vnd.jupyter.widget-view+json": {
       "model_id": "95cf9308b6e645f99b65ec73c1a5d490",
       "version_major": 2,
       "version_minor": 0
      },
      "text/plain": [
       "VBox(children=(Figure(camera=PerspectiveCamera(fov=46.0, position=(0.0, 0.0, 2.0), quaternion=(0.0, 0.0, 0.0, …"
      ]
     },
     "metadata": {},
     "output_type": "display_data"
    }
   ],
   "source": [
    "#extra\n",
    "import pd3\n",
    "from pd3.proto.study_pb2 import IMMOBILE\n",
    "import ipyvolume as ipv\n",
    "import numpy as np\n",
    "\n",
    "def plot_study_3D(study, timestep = 0):\n",
    "\n",
    "#     x_axis = np.array(x_axis)\n",
    "#     x_axis = x_axis / np.linalg.norm(x_axis)\n",
    "#     y_axis = np.array(y_axis)\n",
    "#     y_axis = y_axis / np.linalg.norm(y_axis)\n",
    "#     #check if its normal\n",
    "#     if x_axis.dot(y_axis) != 0:\n",
    "#         raise pd3.Pd3Exception(\"Provided axes are not normal.\")\n",
    "#     #export the graph\n",
    "#     graph = study.export_protobuf()\n",
    "    #get the edges and verticies\n",
    "    vertices = graph.state[timestep].nodes\n",
    "    edges = graph.state[timestep].links\n",
    "    #get the edge and node information\n",
    "    for edge in edges:\n",
    "        leading_id = edge.leading\n",
    "        trailing_id = edge.trailing\n",
    "        leading = vertices[leading_id]\n",
    "        trailing = vertices[trailing_id]\n",
    "\n",
    "        leading_3d = np.array([leading.x, leading.y, leading.z])\n",
    "        trailing_3d = np.array([trailing.x, trailing.y, trailing.z])\n",
    "\n",
    "        # 4 vertices for the tetrahedron\n",
    "        x = np.array([leading_3d[0], trailing_3d[0]])\n",
    "        y = np.array([leading_3d[1], trailing_3d[1]])\n",
    "        z = np.array([leading_3d[2], trailing_3d[2]])\n",
    "        # and 4 surfaces (triangles), where the number refer to the vertex index\n",
    "#         ipv.figure()\n",
    "#         # we draw the tetrahedron\n",
    "#         mesh = ipv.plot_trisurf(x, y, z, triangles=triangles, color='orange')\n",
    "        # and also mark the vertices\n",
    "#         ipv.scatter(x, y, z, marker='sphere', color='blue')\n",
    "#         ipv.xyzlim(-2, 2)\n",
    "#     ipv.show()\n",
    "        triangles = [(0, 0, 0), (1, 1, 1)]\n",
    "        fig = ipv.figure()\n",
    "        scatter = ipv.scatter(x, y, z)\n",
    "    ipv.show()\n",
    "#     ipv.figure()\n",
    "#     # we draw the tetrahedron\n",
    "#     mesh = ipv.plot_trisurf(x, y, z, triangles=triangles, color='orange')\n",
    "#     # and also mark the vertices\n",
    "#     ipv.scatter(x, y, z, marker='sphere', color='blue')\n",
    "#     ipv.xyzlim(-2, 2)\n",
    "#     ipv.show()\n",
    "\n",
    "#     ipv.figure()\n",
    "#     ipv.plot_surface(x, z, y, color=\"orange\")\n",
    "#     ipv.plot_wireframe(x,z, y, color=\"red\")\n",
    "#     ipv.show()\n",
    " #TO DO - DRAW A LINE BETWEEN NODES WITH THE WITR\n",
    "\n",
    "#plot_study_3D(example)\n",
    "plot_study_3D(example)\n",
    "\n",
    "\n"
   ]
  },
  {
   "cell_type": "code",
   "execution_count": 17,
   "metadata": {},
   "outputs": [
    {
     "data": {
      "text/plain": []
     },
     "execution_count": 17,
     "metadata": {},
     "output_type": "execute_result"
    }
   ],
   "source": [
    "# Here is what all the nodes and segments look like in the graph.\n",
    "# state = graph.state[0]\n",
    "# state.nodes\n",
    "\n",
    "arr = [1, 2, 3, 4, 5]\n",
    "\n",
    "hashmap = {\n",
    "    \"Hello!\": \"World\",\n",
    "    \"crazy\": {\n",
    "        \"Woah\": \"this is wild\"\n",
    "    },\n",
    "    0: \"Wow!\",\n",
    "    1: 123,\n",
    "}\n",
    "\n",
    "graph.state[0].nodes[25848368]"
   ]
  },
  {
   "cell_type": "code",
   "execution_count": 29,
   "metadata": {},
   "outputs": [
    {
     "name": "stdout",
     "output_type": "stream",
     "text": [
      "code\n"
     ]
    }
   ],
   "source": [
    "print(\"code\")"
   ]
  },
  {
   "cell_type": "code",
   "execution_count": null,
   "metadata": {},
   "outputs": [],
   "source": []
  }
 ],
 "metadata": {
  "kernelspec": {
   "display_name": "Python 3",
   "language": "python",
   "name": "python3"
  },
  "language_info": {
   "codemirror_mode": {
    "name": "ipython",
    "version": 3
   },
   "file_extension": ".py",
   "mimetype": "text/x-python",
   "name": "python",
   "nbconvert_exporter": "python",
   "pygments_lexer": "ipython3",
   "version": "3.6.9"
  }
 },
 "nbformat": 4,
 "nbformat_minor": 4
}

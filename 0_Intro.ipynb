{
 "cells": [
  {
   "cell_type": "markdown",
   "metadata": {},
   "source": [
    "# Thanks for joining us!\n",
    "\n",
    "This is a sample python notebook where we expect you'll be pending a lot of your time. Notebooks are great because not only can you [write notes in markdown](https://guides.github.com/features/mastering-markdown/), and [math in $\\LaTeX$](https://www.overleaf.com/learn/latex/Learn_LaTeX_in_30_minutes), but you can write code too! Check this out:"
   ]
  },
  {
   "cell_type": "code",
   "execution_count": 1,
   "metadata": {},
   "outputs": [
    {
     "name": "stdout",
     "output_type": "stream",
     "text": [
      "Hello World\n"
     ]
    }
   ],
   "source": [
    "print(\"Hello World\")"
   ]
  },
  {
   "cell_type": "markdown",
   "metadata": {},
   "source": [
    "Our lab studies material deformation at a mesoscale. Think of a spring (TODO)\n",
    "\n",
    "In discrete dislocation dynamics, we typically think of these of these lattice mismatches (or dislocations) [as similar to a graph](https://www.youtube.com/watch?v=ZHqQDA3be-k). This is a pretty fun area of math, I'm sad all the examples I found online were pretty boring. Notably, we DO care where the vertices (we call them nodes) are, and DO care about additional physical information assosiated with the edges (or segments as we refer to them). However, treating DDD as a graph problem makes it easier for use when programming."
   ]
  },
  {
   "cell_type": "markdown",
   "metadata": {},
   "source": [
    "## Learning goals of 1st week:\n",
    "\n",
    " - Learn basic material science intuition for what our lab does\n",
    " - Learn some basic python to get up to speed\n",
    " - Learn some discrete math, graph theory, and algorithms\n",
    " - Learn some basic linear algebra"
   ]
  },
  {
   "cell_type": "markdown",
   "metadata": {},
   "source": [
    "## First deliverable\n",
    "\n",
    "We have a python library backed by a more powerful C++ framework. Our current method for visualizing our dislocations systems, is to export our simulations and open them in paraview. Jupyter notebooks let us make plots right here! For example:"
   ]
  },
  {
   "cell_type": "code",
   "execution_count": 93,
   "metadata": {},
   "outputs": [
    {
     "data": {
      "text/plain": [
       "array([100,  81,  64,  49,  36,  25,  16,   9,   4,   1,   0,   1,   4,\n",
       "         9,  16,  25,  36,  49,  64,  81, 100])"
      ]
     },
     "execution_count": 93,
     "metadata": {},
     "output_type": "execute_result"
    }
   ],
   "source": [
    "x = np.arange(-10, 11)\n",
    "for i, val in enumerate(x):\n",
    "    x[i] = val * val\n",
    "x"
   ]
  },
  {
   "cell_type": "code",
   "execution_count": 96,
   "metadata": {},
   "outputs": [
    {
     "data": {
      "image/png": "[encoded data removed]",
      "text/plain": [
       "<Figure size 432x288 with 1 Axes>"
      ]
     },
     "metadata": {},
     "output_type": "display_data"
    }
   ],
   "source": [
    "# Package for plotting in python\n",
    "import matplotlib.pyplot as plt\n",
    "\n",
    "# Seaborn makes matplotlib charts prettier.\n",
    "import seaborn as sns\n",
    "sns.set()\n",
    "\n",
    "# Numpy is a great package for doing math.\n",
    "import numpy as np\n",
    "\n",
    "# You probably remember quadratic equations\n",
    "# y = x^2\n",
    "# We're just going to calculate and plot that\n",
    "x = np.arange(-10, 11) # -10, -9, .. 10\n",
    "y = x**2               # 100, 81, .. 100\n",
    "\n",
    "# We can now set up our plotting guidlines\n",
    "plt.title(\"It's a quadratic!\")\n",
    "plt.xlim((-10, 10))\n",
    "plt.ylim((0, 100))\n",
    "plt.xlabel(\"my x\")\n",
    "plt.ylabel(\"y\")\n",
    "\n",
    "# And finally we plot\n",
    "plt.plot(x, y)\n",
    "plt.show()"
   ]
  },
  {
   "cell_type": "markdown",
   "metadata": {},
   "source": [
    "We would like a way to plot our dislocation networks right in jupyter. Currently this functionality does not exist. Documentation of our library can be found [here](https://dmadisetti.github.io/pd3/api-py-pd3--python--core--Study/). An example of using our library is as follows:"
   ]
  },
  {
   "cell_type": "code",
   "execution_count": 4,
   "metadata": {},
   "outputs": [],
   "source": [
    "# pd3 is our library!\n",
    "# it stands for: parallel discrete partial dislocation + precipitate dynamics \n",
    "# but really, it's just fun to say\n",
    "import pd3\n",
    "from pd3.proto.study_pb2 import IMMOBILE\n",
    "\n",
    "# A \"normal\" vector is a vector that is length 1 from the origin (0,0).\n",
    "# This makes any vector \"normal\"\n",
    "def normalize(a, b, c):\n",
    "    \"\"\"Creates a unit vector from a, b, c\"\"\"\n",
    "    vector = np.array([a, b, c])\n",
    "    return vector / np.linalg.norm(vector)\n",
    "\n",
    "# This is the 'plane normal'. A plane cuts through 3D space, and the normal, is perpendicular to all vectors on the plane. That is normal \\dot vector = 0\n",
    "normal = normalize(1, 1, 1)\n",
    "\n",
    "# These are directions on the plane. We can chose any 2 vectors to be our 'basis', but these are nice\n",
    "# and relevant to crystallography in FCC materials.\n",
    "# Note y_dir dot x_dir = 0, but also\n",
    "# x_dir dot normal = y_dir dot normal = 0!\n",
    "y_direction = normalize(-1, 1, 0)\n",
    "x_direction = normalize(1, 1, -2)\n",
    "\n",
    "# Burger's direction is a means of measuring the type and magnitude of the lattice mismatches.\n",
    "# This will come up much more. It is physically derived from something called a burger's circut\n",
    "# which I can touch on more later.\n",
    "burgers = pd3.Burgers((-1, 1, 0))\n",
    "\n",
    "# We're going to make a parabola shape just like the previous example.\n",
    "# But since we're in 3D, we need to handle the equation a little differently.\n",
    "def in_plane_quadratic(x):\n",
    "    y = x**2\n",
    "    return x * x_direction + y * y_direction\n",
    "\n",
    "# All pd3 usage starts off with creating a study.\n",
    "example = pd3.Study()\n",
    "\n",
    "# Start off our parabola\n",
    "# Here we make a node, or vertex.\n",
    "# We'll later \"connect\" vertices together to make an edge or segment.\n",
    "# We note that the node is \"IMMOBILE\", which means it can't move during\n",
    "# our simulations.\n",
    "start = example.create_node(\n",
    "    in_plane_quadratic(-10), # This is the position in space\n",
    "    IMMOBILE # This is the type of node, which means it's fixed in space.\n",
    ")\n",
    "old_node = start\n",
    "\n",
    "# Create a node for each step, and connect each next\n",
    "# step to the previous step.\n",
    "for x in range(-9, 10):\n",
    "    new_node = example.create_node(\n",
    "        in_plane_quadratic(x), # The position in space changes with x\n",
    "    )\n",
    "    # We make the segment by connecting 2 nodes.\n",
    "    example.connect(old_node, new_node, burgers)\n",
    "    # We set the old_node to new node for the next loop.\n",
    "    old_node = new_node\n",
    "\n",
    "# Add the end to our parabola!\n",
    "end = example.create_node(\n",
    "    in_plane_quadratic(10), # The other side of the quadratic\n",
    "    IMMOBILE # This end is also fixed.\n",
    ")\n",
    "example.connect(old_node, end, burgers)\n",
    "\n",
    "# Convert our system into a graph for plotting\n",
    "graph = example.export_protobuf()"
   ]
  },
  {
   "cell_type": "code",
   "execution_count": 5,
   "metadata": {},
   "outputs": [
    {
     "data": {
      "text/plain": [
       "(37542416, x: -48.52082031964994\n",
       " y: 41.98884767222813\n",
       " z: 6.531972647421809\n",
       " type: MOBILE)"
      ]
     },
     "execution_count": 5,
     "metadata": {},
     "output_type": "execute_result"
    }
   ],
   "source": [
    "# Here's an example of how to break up our graph to get the edges and vertices.\n",
    "timestep = 0\n",
    "vertices = graph.state[timestep].nodes\n",
    "edges = graph.state[timestep].links\n",
    "\n",
    "# We can now choose an edge, find the id of one of the nodes, and then get a node.\n",
    "index = 0\n",
    "sample_node_id = edges[index].leading\n",
    "sample_node = vertices[sample_node_id]\n",
    "sample_node_id, sample_node"
   ]
  },
  {
   "cell_type": "code",
   "execution_count": 23,
   "metadata": {},
   "outputs": [
    {
     "data": {
      "text/plain": [
       "array([1, 0, 0])"
      ]
     },
     "execution_count": 23,
     "metadata": {},
     "output_type": "execute_result"
    }
   ],
   "source": [
    "x_axis=(1, 0, 0)\n",
    "\n",
    "x_axis = np.array(x_axis)\n",
    "x_axis"
   ]
  },
  {
   "cell_type": "markdown",
   "metadata": {},
   "source": [
    "## Note\n",
    "\n",
    "\n",
    "You'll notice that the points are in 3d, while plots can only really be done in 2d. So we need to prescribe the x, y axis in 3D space to come up with a 3D plot. One you feel comfortable with the content your first task will be to fill out the following function."
   ]
  },
  {
   "cell_type": "code",
   "execution_count": 103,
   "metadata": {},
   "outputs": [
    {
     "name": "stdout",
     "output_type": "stream",
     "text": [
      "An error occured.\r\n",
      "ValueError: Please install nodejs >=10.0.0 before continuing. nodejs may be installed using conda or directly from the nodejs website.\r\n",
      "See the log file for details:  /tmp/jupyterlab-debug-h2d_4a7y.log\r\n"
     ]
    }
   ],
   "source": []
  },
  {
   "cell_type": "code",
   "execution_count": 102,
   "metadata": {},
   "outputs": [
    {
     "data": {
      "application/vnd.jupyter.widget-view+json": {
       "model_id": "a3b0e0378233465786ba4d659182286a",
       "version_major": 2,
       "version_minor": 0
      },
      "text/plain": [
       "VBox(children=(Figure(camera=PerspectiveCamera(fov=46.0, position=(0.0, 0.0, 2.0), quaternion=(0.0, 0.0, 0.0, …"
      ]
     },
     "metadata": {},
     "output_type": "display_data"
    }
   ],
   "source": [
    "import ipyvolume as ipv\n",
    "import numpy as np\n",
    "s = 1/2**0.5\n",
    "# 4 vertices for the tetrahedron\n",
    "x = np.array([1.,  -1, 0,  0])\n",
    "y = np.array([0,   0, 1., -1])\n",
    "z = np.array([-s, -s, s,  s])\n",
    "# and 4 surfaces (triangles), where the number refer to the vertex index\n",
    "triangles = [(0, 1, 2), (0, 1, 3), (0, 2, 3), (1,3,2)]\n",
    "ipv.figure()\n",
    "# we draw the tetrahedron\n",
    "mesh = ipv.plot_trisurf(x, y, z, triangles=triangles, color='orange')\n",
    "# and also mark the vertices\n",
    "ipv.scatter(x, y, z, marker='sphere', color='blue')\n",
    "ipv.xyzlim(-2, 2)\n",
    "ipv.show()"
   ]
  },
  {
   "cell_type": "code",
   "execution_count": 100,
   "metadata": {
    "scrolled": true
   },
   "outputs": [
    {
     "data": {
      "text/plain": [
       "[<matplotlib.lines.Line2D at 0x7f33b9512b00>]"
      ]
     },
     "execution_count": 100,
     "metadata": {},
     "output_type": "execute_result"
    },
    {
     "data": {
      "image/png": "[encoded data removed]",
      "text/plain": [
       "<Figure size 432x288 with 1 Axes>"
      ]
     },
     "metadata": {},
     "output_type": "display_data"
    }
   ],
   "source": [
    "# Maybe you want: import ipyvolume as ipv\n",
    "# https://ipyvolume.readthedocs.io/en/latest/examples/mesh.html\n",
    "# ipvol\n",
    "\n",
    "import matplotlib.pyplot as plt\n",
    "\n",
    "plt.title(\"My plot!\")\n",
    "#plt.plot([1, 0], [1, 1], \"o-\")\n",
    "#plt.xlim(-1, 1.5)\n",
    "#plt.ylim(-1, 1.5)\n",
    "\n",
    "# Example 3D -> 2D\n",
    "somepoint = np.array([1, 2, 3])\n",
    "\n",
    "# NOTE axes should be normalized first\n",
    "x_axis = np.array((1,1,0))\n",
    "y_axis = np.array((1,-1,0))\n",
    "\n",
    "x_component = x_axis.dot(somepoint)\n",
    "y_component = x_axis.dot(somepoint)\n",
    "\n",
    "plt.plot([x_component], [y_component], \"o\")\n"
   ]
  },
  {
   "cell_type": "code",
   "execution_count": 32,
   "metadata": {},
   "outputs": [],
   "source": [
    "import pd3\n",
    "from pd3.proto.study_pb2 import IMMOBILE\n",
    "\n",
    "def plot_study(study, x_axis=(1, 0, 0), y_axis=(0, 1, 0), timestep = 0):\n",
    "    \"\"\"! \\brief Plots the dislocation system at the given timestep.\n",
    "\n",
    "    Plots a given dislocation system with orthogonal axes.\n",
    "    \\param study Self instance.\n",
    "    \\param x_axis The x axis to project the system on.\n",
    "    \\param y_axis The y axis to projec the system on.\n",
    "    \\param timestep The timestep to plot.\n",
    "    \"\"\"\n",
    "    # Ensure x_axis, y_axis are normalized\n",
    "    x_axis = np.array(x_axis)\n",
    "    x_axis = x_axis / np.linalg.norm(x_axis)\n",
    "    y_axis = np.array(y_axis)\n",
    "    y_axis = y_axis / np.linalg.norm(y_axis)\n",
    "    \n",
    "    # https://numpy.org/doc/stable/\n",
    "    if x_axis.dot(y_axis) != 0:\n",
    "        raise pd3.Pd3Exception(\"Provided axes are not normal.\")\n",
    "\n",
    "    # Convert our system into a graph for plotting\n",
    "    # Note that the grpah is in protobuf format:\n",
    "    # https://developers.google.com/protocol-buffers/docs/pythontutorial#the-protocol-buffer-api\n",
    "    # In addition, fields can found in the provided documentation:\n",
    "    # https://dmadisetti.github.io/pd3/api-proto-study/\n",
    "    graph = study.export_protobuf()\n",
    "\n",
    "    # Here's an example of how to break up our graph to get the edges and vertices.\n",
    "    vertices = graph.state[timestep].nodes\n",
    "    edges = graph.state[timestep].links\n",
    "\n",
    "    # TODO: Plot the study with matplotlib\n",
    "    # Store information from loop, and then plot it!\n",
    "    # We can now choose an edge, find the id of one of the nodes, and then get a node.\n",
    "    for edge in edges:\n",
    "        # TODO: something with edge and the node IDs\n",
    "        leading_id = edge.leading\n",
    "        trailing_id = edge.trailing\n",
    "        leading = vertices[leading_id]\n",
    "        # leading.x, leading.y, leading.z\n",
    "        \n",
    "x = normalize(1,0,0)\n",
    "y = normalize(0,1,0)\n",
    "    \n",
    "study = pd3.Study()\n",
    "start = study.create_node((-2,3,-1), IMMOBILE)\n",
    "\n",
    "# TODO: This should make a pretty similar graph to the standard quadratic graph above.\n",
    "plot_study(example, (1,1,0), (1,-1,0))"
   ]
  },
  {
   "cell_type": "code",
   "execution_count": 67,
   "metadata": {},
   "outputs": [
    {
     "data": {
      "text/plain": [
       "x: -27.90533386549889\n",
       "y: 23.00635437993253\n",
       "z: 4.898979485566357\n",
       "type: MOBILE"
      ]
     },
     "execution_count": 67,
     "metadata": {},
     "output_type": "execute_result"
    }
   ],
   "source": [
    "# Here is what all the nodes and segments look like in the graph.\n",
    "# state = graph.state[0]\n",
    "# state.nodes\n",
    "\n",
    "arr = [1, 2, 3, 4, 5]\n",
    "\n",
    "hashmap = {\n",
    "    \"Hello!\": \"World\",\n",
    "    \"crazy\": {\n",
    "        \"Woah\": \"this is wild\"\n",
    "    },\n",
    "    0: \"Wow!\",\n",
    "    1: 123,\n",
    "}\n",
    "\n",
    "\n",
    "graph.state[0].nodes[45990720]"
   ]
  }
 ],
 "metadata": {
  "kernelspec": {
   "display_name": "Python 3",
   "language": "python",
   "name": "python3"
  },
  "language_info": {
   "codemirror_mode": {
    "name": "ipython",
    "version": 3
   },
   "file_extension": ".py",
   "mimetype": "text/x-python",
   "name": "python",
   "nbconvert_exporter": "python",
   "pygments_lexer": "ipython3",
   "version": "3.6.9"
  }
 },
 "nbformat": 4,
 "nbformat_minor": 2
}

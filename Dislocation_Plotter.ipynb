{
 "cells": [
  {
   "cell_type": "code",
   "execution_count": null,
   "metadata": {},
   "outputs": [],
   "source": []
  },
  {
   "cell_type": "code",
   "execution_count": 7,
   "metadata": {
    "scrolled": false
   },
   "outputs": [
    {
     "ename": "IndentationError",
     "evalue": "unindent does not match any outer indentation level (pd3_plot.py, line 282)",
     "output_type": "error",
     "traceback": [
      "Traceback \u001b[0;36m(most recent call last)\u001b[0m:\n",
      "  File \u001b[1;32m\"/usr/local/lib/python3.6/dist-packages/IPython/core/interactiveshell.py\"\u001b[0m, line \u001b[1;32m3331\u001b[0m, in \u001b[1;35mrun_code\u001b[0m\n    exec(code_obj, self.user_global_ns, self.user_ns)\n",
      "  File \u001b[1;32m\"<ipython-input-7-43fe5084264d>\"\u001b[0m, line \u001b[1;32m4\u001b[0m, in \u001b[1;35m<module>\u001b[0m\n    importlib.reload(pd3_plot)\n",
      "  File \u001b[1;32m\"/usr/lib/python3.6/importlib/__init__.py\"\u001b[0m, line \u001b[1;32m166\u001b[0m, in \u001b[1;35mreload\u001b[0m\n    _bootstrap._exec(spec, module)\n",
      "  File \u001b[1;32m\"<frozen importlib._bootstrap>\"\u001b[0m, line \u001b[1;32m618\u001b[0m, in \u001b[1;35m_exec\u001b[0m\n",
      "  File \u001b[1;32m\"<frozen importlib._bootstrap_external>\"\u001b[0m, line \u001b[1;32m674\u001b[0m, in \u001b[1;35mexec_module\u001b[0m\n",
      "  File \u001b[1;32m\"<frozen importlib._bootstrap_external>\"\u001b[0m, line \u001b[1;32m781\u001b[0m, in \u001b[1;35mget_code\u001b[0m\n",
      "  File \u001b[1;32m\"<frozen importlib._bootstrap_external>\"\u001b[0m, line \u001b[1;32m741\u001b[0m, in \u001b[1;35msource_to_code\u001b[0m\n",
      "\u001b[0;36m  File \u001b[0;32m\"<frozen importlib._bootstrap>\"\u001b[0;36m, line \u001b[0;32m219\u001b[0;36m, in \u001b[0;35m_call_with_frames_removed\u001b[0;36m\u001b[0m\n",
      "\u001b[0;36m  File \u001b[0;32m\"/home/reap2020/notebooks/pd3_plot.py\"\u001b[0;36m, line \u001b[0;32m282\u001b[0m\n\u001b[0;31m    kwargs[\"do_vr\"] = True\u001b[0m\n\u001b[0m                          ^\u001b[0m\n\u001b[0;31mIndentationError\u001b[0m\u001b[0;31m:\u001b[0m unindent does not match any outer indentation level\n"
     ]
    }
   ],
   "source": [
    "import importlib\n",
    "from pd3.proto import study_pb2\n",
    "import pd3_plot\n",
    "importlib.reload(pd3_plot)\n",
    "\n",
    "# This loads up spaghetti directly instead of creating a pd3 study.\n",
    "with open('spaghetti.pb', 'rb') as f:\n",
    "    study_proto = study_pb2.Series()\n",
    "    study_proto.ParseFromString(f.read())\n",
    "\n",
    "plotter = pd3_plot.Plotter(study_proto)\n",
    "\n",
    "\n",
    "#Color schemes that can be passed in: \"rainbow\" or \"pastel\"\n",
    "# plotter.plot_2D(color_scheme = \"rainbow\")\n",
    "# plotter.plot_3D(color_scheme = \"rainbow\")\n",
    "\n",
    "# # # And next\n",
    "# plotter.movie_2D(timestep_start=0, timestep_end=42, step=10, color_scheme = \"rainbow\") # Should plot 0, 10, 20, 30, 40\n",
    "# plotter.movie_3D(timestep_start=0, timestep_end=42, step=10) # Should plot 0, 10, 20, 30, 40\n",
    "plotter.vr_link(color_scheme = \"rainbow\")# This will provide a link so you can view the system in VR\n"
   ]
  },
  {
   "cell_type": "code",
   "execution_count": null,
   "metadata": {},
   "outputs": [],
   "source": []
  },
  {
   "cell_type": "code",
   "execution_count": null,
   "metadata": {},
   "outputs": [],
   "source": []
  }
 ],
 "metadata": {
  "kernelspec": {
   "display_name": "Python 3",
   "language": "python",
   "name": "python3"
  },
  "language_info": {
   "codemirror_mode": {
    "name": "ipython",
    "version": 3
   },
   "file_extension": ".py",
   "mimetype": "text/x-python",
   "name": "python",
   "nbconvert_exporter": "python",
   "pygments_lexer": "ipython3",
   "version": "3.6.9"
  }
 },
 "nbformat": 4,
 "nbformat_minor": 4
}

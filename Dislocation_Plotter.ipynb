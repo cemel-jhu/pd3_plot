{
 "cells": [
  {
   "cell_type": "code",
   "execution_count": null,
   "metadata": {},
   "outputs": [],
   "source": []
  },
  {
   "cell_type": "code",
   "execution_count": null,
   "metadata": {
    "scrolled": false
   },
   "outputs": [],
   "source": [
    "import importlib\n",
    "from pd3.proto import study_pb2\n",
    "import pd3_plot\n",
    "importlib.reload(pd3_plot)\n",
    "\n",
    "# This loads up spaghetti directly instead of creating a pd3 study.\n",
    "with open('spaghetti.pb', 'rb') as f:\n",
    "    study_proto = study_pb2.Series()\n",
    "    study_proto.ParseFromString(f.read())\n",
    "\n",
    "plotter = pd3_plot.Plotter(study_proto)\n",
    "\n",
    "\n",
    "#Color schemes that can be passed in: \"rainbow\" or \"pastel\"\n",
    "# plotter.plot_2D(color_scheme = \"rainbow\")\n",
    "# plotter.plot_3D(color_scheme = \"rainbow\")\n",
    "# \n",
    "# # # And next\n",
    "# plotter.movie_2D(timestep_start=0, timestep_end=42, step=10) # Should plot 0, 10, 20, 30, 40\n",
    "plotter.movie_3D(timestep_start=0, timestep_end=22, step=10) # Should plot 0, 10, 20, 30, 40\n",
    "# # plotter.vr_link() # This will provide a link so you can view the system in VR"
   ]
  },
  {
   "cell_type": "code",
   "execution_count": null,
   "metadata": {},
   "outputs": [],
   "source": []
  },
  {
   "cell_type": "code",
   "execution_count": null,
   "metadata": {},
   "outputs": [],
   "source": []
  }
 ],
 "metadata": {
  "kernelspec": {
   "display_name": "Python 3",
   "language": "python",
   "name": "python3"
  },
  "language_info": {
   "codemirror_mode": {
    "name": "ipython",
    "version": 3
   },
   "file_extension": ".py",
   "mimetype": "text/x-python",
   "name": "python",
   "nbconvert_exporter": "python",
   "pygments_lexer": "ipython3",
   "version": "3.6.9"
  }
 },
 "nbformat": 4,
 "nbformat_minor": 4
}

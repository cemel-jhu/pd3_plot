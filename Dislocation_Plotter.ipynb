{
 "cells": [
  {
   "cell_type": "code",
   "execution_count": null,
   "metadata": {},
   "outputs": [],
   "source": []
  },
  {
   "cell_type": "code",
   "execution_count": 1,
   "metadata": {
    "scrolled": true
   },
   "outputs": [
    {
     "data": {
      "application/vnd.jupyter.widget-view+json": {
       "model_id": "e84ea3cbf0d54ac0b76cd6c8de467e4a",
       "version_major": 2,
       "version_minor": 0
      },
      "text/plain": [
       "VBox(children=(Figure(camera=PerspectiveCamera(fov=46.0, position=(0.0, 0.0, 2.0), quaternion=(0.0, 0.0, 0.0, …"
      ]
     },
     "metadata": {},
     "output_type": "display_data"
    },
    {
     "data": {
      "application/vnd.jupyter.widget-view+json": {
       "model_id": "29975f71335749ebae27bc95e86a0849",
       "version_major": 2,
       "version_minor": 0
      },
      "text/plain": [
       "VBox(children=(Figure(camera=PerspectiveCamera(fov=46.0, position=(0.0, 0.0, 2.0), quaternion=(0.0, 0.0, 0.0, …"
      ]
     },
     "metadata": {},
     "output_type": "display_data"
    },
    {
     "data": {
      "application/vnd.jupyter.widget-view+json": {
       "model_id": "e4238e909c104600a69c920578da079d",
       "version_major": 2,
       "version_minor": 0
      },
      "text/plain": [
       "VBox(children=(Figure(camera=PerspectiveCamera(fov=46.0, position=(0.0, 0.0, 2.0), quaternion=(0.0, 0.0, 0.0, …"
      ]
     },
     "metadata": {},
     "output_type": "display_data"
    }
   ],
   "source": [
    "import importlib\n",
    "from pd3.proto import study_pb2\n",
    "import pd3_plot\n",
    "importlib.reload(pd3_plot)\n",
    "\n",
    "# This loads up spaghetti directly instead of creating a pd3 study.\n",
    "with open('spaghetti.pb', 'rb') as f:\n",
    "    study_proto = study_pb2.Series()\n",
    "    study_proto.ParseFromString(f.read())\n",
    "\n",
    "plotter = pd3_plot.Plotter(study_proto)\n",
    "\n",
    "\n",
    "#Color schemes that can be passed in: \"rainbow\" or \"pastel\"\n",
    "# plotter.plot_2D(color_scheme = \"rainbow\")\n",
    "# plotter.plot_3D(color_scheme = \"rainbow\")\n",
    "\n",
    "# # # And next\n",
    "# plotter.movie_2D(timestep_start=0, timestep_end=42, step=10) # Should plot 0, 10, 20, 30, 40\n",
    "plotter.movie_3D(timestep_start=0, timestep_end=22, step=10) # Should plot 0, 10, 20, 30, 40\n",
    "# # plotter.vr_link() # This will provide a link so you can view the system in VR\n"
   ]
  },
  {
   "cell_type": "code",
   "execution_count": null,
   "metadata": {},
   "outputs": [],
   "source": []
  },
  {
   "cell_type": "code",
   "execution_count": null,
   "metadata": {},
   "outputs": [],
   "source": []
  }
 ],
 "metadata": {
  "kernelspec": {
   "display_name": "Python 3",
   "language": "python",
   "name": "python3"
  },
  "language_info": {
   "codemirror_mode": {
    "name": "ipython",
    "version": 3
   },
   "file_extension": ".py",
   "mimetype": "text/x-python",
   "name": "python",
   "nbconvert_exporter": "python",
   "pygments_lexer": "ipython3",
   "version": "3.6.9"
  }
 },
 "nbformat": 4,
 "nbformat_minor": 4
}

{
 "cells": [
  {
   "cell_type": "code",
   "execution_count": 1,
   "metadata": {},
   "outputs": [],
   "source": [
    "import pd3\n",
    "study = pd3.Study()"
   ]
  },
  {
   "cell_type": "code",
   "execution_count": 2,
   "metadata": {},
   "outputs": [
    {
     "data": {
      "text/plain": [
       "True"
      ]
     },
     "execution_count": 2,
     "metadata": {},
     "output_type": "execute_result"
    }
   ],
   "source": [
    "study.load_file(\"/home/reap2020/notebooks/spaghetti.pb\")"
   ]
  },
  {
   "cell_type": "code",
   "execution_count": 18,
   "metadata": {
    "scrolled": true
   },
   "outputs": [
    {
     "data": {
      "image/png": "[encoded data removed]",
      "text/plain": [
       "<Figure size 432x288 with 1 Axes>"
      ]
     },
     "metadata": {
      "needs_background": "light"
     },
     "output_type": "display_data"
    }
   ],
   "source": [
    "#plot study using line collection\n",
    "import pd3\n",
    "from pd3.proto.study_pb2 import IMMOBILE\n",
    "import matplotlib.pyplot as plt\n",
    "import numpy as np\n",
    "from matplotlib import collections  as mc\n",
    "import pylab as pl\n",
    "\n",
    "def normalize(a, b, c):\n",
    "    \"\"\"Creates a unit vector from a, b, c\"\"\"\n",
    "    vector = np.array([a, b, c])\n",
    "    return vector / np.linalg.norm(vector)\n",
    "\n",
    "\n",
    "def plot_study(study, x_axis=(1, 0, 0), y_axis=(0, 1, 0), timestep = 0):\n",
    "    \"\"\"! \\brief Plots the dislocation system at the given timestep.\n",
    "\n",
    "    Plots a given dislocation system with orthogonal axes.\n",
    "    \\param study Self instance.\n",
    "    \\param x_axis The x axis to project the system on.\n",
    "    \\param y_axis The y axis to projec the system on.\n",
    "    \\param timestep The timestep to plot.\n",
    "    \"\"\"\n",
    "    # Ensure x_axis, y_axis are normalized\n",
    "    x_axis = np.array(x_axis)\n",
    "    x_axis = x_axis / np.linalg.norm(x_axis)\n",
    "    y_axis = np.array(y_axis)\n",
    "    y_axis = y_axis / np.linalg.norm(y_axis)\n",
    "    \n",
    "    # https://numpy.org/doc/stable/\n",
    "    if x_axis.dot(y_axis) != 0:\n",
    "        raise pd3.Pd3Exception(\"Provided axes are not normal.\")\n",
    "\n",
    "    # Convert our system into a graph for plotting\n",
    "    # Note that the grpah is in protobuf format:\n",
    "    # https://developers.google.com/protocol-buffers/docs/pythontutorial#the-protocol-buffer-api\n",
    "    # In addition, fields can found in the provided documentation:\n",
    "    # https://dmadisetti.github.io/pd3/api-proto-study/\n",
    "    graph = study.export_protobuf()\n",
    "\n",
    "    # Here's an example of how to break up our graph to get the edges and vertices.\n",
    "    vertices = graph.state[timestep].nodes\n",
    "    edges = graph.state[timestep].links\n",
    "\n",
    "    # TODO: Plot the study with matplotlib\n",
    "    # Store information from loop, and then plot it!\n",
    "    # We can now choose an edge, find the id of one of the nodes, and then get a node.\n",
    "    # Dylan: I think you're close, but there may be an easier way. See next comment\n",
    "        # Dylan: So we need some way of converting leading in 3d space to\n",
    "        # leading in 2d space, and trailing in 3d space to 2d space.\n",
    "        # These transformations are independent of each other\n",
    "        # (leading doesn't effect trailing and visa versa)\n",
    "        # leading_2d_x = x_axis.dot(leading_3d)\n",
    "        # ... the others\n",
    "        # and then add those computations to an array: x_data.append(leading_2d_x)\n",
    "        \n",
    "    y_data = []\n",
    "    x_data = []\n",
    "    lines = []\n",
    "    for edge in edges:\n",
    "        # TODO: something with edge and the node IDs\n",
    "        leading_id = edge.leading\n",
    "        trailing_id = edge.trailing\n",
    "        leading = vertices[leading_id]\n",
    "        trailing = vertices[trailing_id]\n",
    "        \n",
    "        \n",
    "        leading_3d = np.array([leading.x, leading.y, leading.z])\n",
    "        trailing_3d = np.array([trailing.x, trailing.y, trailing.z])\n",
    "        leading_2d_x = x_axis.dot(leading_3d)\n",
    "        trailing_2d_x = x_axis.dot(trailing_3d)\n",
    "        leading_2d_y = y_axis.dot(leading_3d)\n",
    "        trailing_2d_y = y_axis.dot(trailing_3d)\n",
    "        y_data.append(trailing_2d_y)\n",
    "        x_data.append(trailing_2d_x)\n",
    "        y_data.append(leading_2d_y)\n",
    "        x_data.append(leading_2d_x)\n",
    "        lines.append([(leading_2d_x, leading_2d_y), (trailing_2d_x, trailing_2d_y)])   \n",
    "    \n",
    "   #using line collection\n",
    "    lc = mc.LineCollection(lines)\n",
    "    fig, ax = pl.subplots()\n",
    "    ax.add_collection(lc)\n",
    "    ax.autoscale()\n",
    "    ax.margins(0.1)\n",
    "    \n",
    "    plt.title(\"Plot Study\")\n",
    "    plt.xlabel(\"x\")\n",
    "    plt.ylabel(\"y\")\n",
    "    # plt.plot(x_data, y_data, 'o')\n",
    "\n",
    "    \n",
    "x = normalize(1,0,0)\n",
    "y = normalize(0,1,0)\n",
    "    \n",
    "plot_study(study, (0,-1,1), (2,-1,-1)) # Markus's code"
   ]
  }
 ],
 "metadata": {
  "kernelspec": {
   "display_name": "Python 3",
   "language": "python",
   "name": "python3"
  },
  "language_info": {
   "codemirror_mode": {
    "name": "ipython",
    "version": 3
   },
   "file_extension": ".py",
   "mimetype": "text/x-python",
   "name": "python",
   "nbconvert_exporter": "python",
   "pygments_lexer": "ipython3",
   "version": "3.6.9"
  }
 },
 "nbformat": 4,
 "nbformat_minor": 4
}

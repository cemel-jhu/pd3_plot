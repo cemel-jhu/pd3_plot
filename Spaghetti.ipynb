{
 "cells": [
  {
   "cell_type": "code",
   "execution_count": 1,
   "metadata": {},
   "outputs": [
    {
     "data": {
      "text/plain": [
       "True"
      ]
     },
     "execution_count": 1,
     "metadata": {},
     "output_type": "execute_result"
    }
   ],
   "source": [
    "import pd3\n",
    "study = pd3.Study()\n",
    "study.load_file(\"/home/reap2020/notebooks/spaghetti.pb\")"
   ]
  },
  {
   "cell_type": "code",
   "execution_count": 17,
   "metadata": {
    "scrolled": true
   },
   "outputs": [
    {
     "data": {
      "image/png": "[encoded data removed]",
      "text/plain": [
       "<Figure size 432x288 with 1 Axes>"
      ]
     },
     "metadata": {
      "needs_background": "light"
     },
     "output_type": "display_data"
    }
   ],
   "source": [
    "import importlib\n",
    "import pd3_plot_colors\n",
    "importlib.reload(pd3_plot_colors)\n",
    "from pd3_plot_colors import normalize, plot_study, plot_study3D\n",
    "\n",
    "x = normalize(1,0,0)\n",
    "y = normalize(0,1,0)\n",
    "    \n",
    "plot_study(study) # Markus's code\n",
    "\n",
    "# Download paraview if you want (just to see hwat they do)\n",
    "# Find a way to reuse DFS (probably mamek a new function that returns lines)\n",
    "# Color by slip system"
   ]
  },
  {
   "cell_type": "code",
   "execution_count": 14,
   "metadata": {},
   "outputs": [
    {
     "ename": "NameError",
     "evalue": "name 'links' is not defined",
     "output_type": "error",
     "traceback": [
      "\u001b[0;31m---------------------------------------------------------------------------\u001b[0m",
      "\u001b[0;31mNameError\u001b[0m                                 Traceback (most recent call last)",
      "\u001b[0;32m<ipython-input-14-0646197990e2>\u001b[0m in \u001b[0;36m<module>\u001b[0;34m\u001b[0m\n\u001b[0;32m----> 1\u001b[0;31m \u001b[0;32mclass\u001b[0m \u001b[0mGraph\u001b[0m\u001b[0;34m(\u001b[0m\u001b[0mobject\u001b[0m\u001b[0;34m)\u001b[0m\u001b[0;34m:\u001b[0m\u001b[0;34m\u001b[0m\u001b[0;34m\u001b[0m\u001b[0m\n\u001b[0m\u001b[1;32m      2\u001b[0m     \u001b[0;32mdef\u001b[0m \u001b[0m__init__\u001b[0m\u001b[0;34m(\u001b[0m\u001b[0mself\u001b[0m\u001b[0;34m,\u001b[0m \u001b[0mprotobuf\u001b[0m\u001b[0;34m,\u001b[0m \u001b[0mtimestep\u001b[0m\u001b[0;34m,\u001b[0m \u001b[0mx_axis\u001b[0m\u001b[0;34m,\u001b[0m \u001b[0my_axis\u001b[0m\u001b[0;34m)\u001b[0m\u001b[0;34m:\u001b[0m\u001b[0;34m\u001b[0m\u001b[0;34m\u001b[0m\u001b[0m\n\u001b[1;32m      3\u001b[0m         \u001b[0mself\u001b[0m\u001b[0;34m.\u001b[0m\u001b[0mprotobuf\u001b[0m \u001b[0;34m=\u001b[0m \u001b[0mprotobuf\u001b[0m\u001b[0;34m\u001b[0m\u001b[0;34m\u001b[0m\u001b[0m\n\u001b[1;32m      4\u001b[0m         \u001b[0mself\u001b[0m\u001b[0;34m.\u001b[0m\u001b[0mtimestep\u001b[0m \u001b[0;34m=\u001b[0m \u001b[0mtimestep\u001b[0m\u001b[0;34m\u001b[0m\u001b[0;34m\u001b[0m\u001b[0m\n\u001b[1;32m      5\u001b[0m         \u001b[0mself\u001b[0m\u001b[0;34m.\u001b[0m\u001b[0mx_axis\u001b[0m \u001b[0;34m=\u001b[0m \u001b[0mx_axis\u001b[0m\u001b[0;34m\u001b[0m\u001b[0;34m\u001b[0m\u001b[0m\n",
      "\u001b[0;32m<ipython-input-14-0646197990e2>\u001b[0m in \u001b[0;36mGraph\u001b[0;34m()\u001b[0m\n\u001b[1;32m     51\u001b[0m \u001b[0;31m#         print(\"yo\")\u001b[0m\u001b[0;34m\u001b[0m\u001b[0;34m\u001b[0m\u001b[0;34m\u001b[0m\u001b[0m\n\u001b[1;32m     52\u001b[0m \u001b[0;31m#         print(self.links)\u001b[0m\u001b[0;34m\u001b[0m\u001b[0;34m\u001b[0m\u001b[0;34m\u001b[0m\u001b[0m\n\u001b[0;32m---> 53\u001b[0;31m     \u001b[0mprint\u001b[0m\u001b[0;34m(\u001b[0m\u001b[0mlinks\u001b[0m\u001b[0;34m)\u001b[0m\u001b[0;34m\u001b[0m\u001b[0;34m\u001b[0m\u001b[0m\n\u001b[0m\u001b[1;32m     54\u001b[0m \u001b[0;34m\u001b[0m\u001b[0m\n\u001b[1;32m     55\u001b[0m \u001b[0;31m# graph = Graph(None, None, None, None)\u001b[0m\u001b[0;34m\u001b[0m\u001b[0;34m\u001b[0m\u001b[0;34m\u001b[0m\u001b[0m\n",
      "\u001b[0;31mNameError\u001b[0m: name 'links' is not defined"
     ]
    }
   ],
   "source": [
    "class Graph(object):\n",
    "    def __init__(self, protobuf, timestep, x_axis, y_axis):\n",
    "        self.protobuf = protobuf\n",
    "        self.timestep = timestep\n",
    "        self.x_axis = x_axis\n",
    "        self.y_axis = y_axis\n",
    "\n",
    "        self.not_visited = set()\n",
    "        self.visited = set()\n",
    "        self.node_vectors = {}\n",
    "        self.node_vectors_projection = {}\n",
    "        self.links = {}\n",
    "        \n",
    "        # basically create_graph here\n",
    "        def create_graph(study, timestep, x_axis, y_axis, not_visited, node_vectors, node_vectors_2d, links):\n",
    "            \"\"\"! \\brief Creates a graph\n",
    "\n",
    "            Exports a graph from protobuf, and gets the edge and node information\n",
    "            \\param Takes in a graph\n",
    "            \\param Takes in x_axis and y_axis for plotting\n",
    "            \\param Takes in a set which represents the nodes that have been visited\n",
    "            \\param Takes in 2 lookup for node_id to to node_vector.\n",
    "            \"\"\"\n",
    "\n",
    "            graph = study.export_protobuf()\n",
    "            vertices = graph.state[timestep].nodes\n",
    "            edges = graph.state[timestep].links\n",
    "            g = {}\n",
    "        #     links = { \n",
    "        #        node_a: { node_b: segment_info } }\n",
    "        #     node\n",
    "\n",
    "            for edge in edges:\n",
    "                not_visited.add(edge.leading)\n",
    "                not_visited.add(edge.trailing)\n",
    "                leading_neighbors = g.get(edge.leading, [])\n",
    "                leading_neighbors.append(edge.trailing)\n",
    "                trailing_neighbors = g.get(edge.trailing, [])\n",
    "                trailing_neighbors.append(edge.leading)\n",
    "                g[edge.leading] = leading_neighbors\n",
    "                g[edge.trailing] = trailing_neighbors\n",
    "\n",
    "            for edge in edges: # (1, 2)\n",
    "                if edge.leading not in links:\n",
    "                    links[edge.leading] = {}\n",
    "\n",
    "                if edge.trailing not in links:\n",
    "                    links[edge.trailing] = {}\n",
    "\n",
    "                links[edge.leading][edge.trailing] = edge.slip\n",
    "                links[edge.trailing][edge.leading] = edge.slip\n",
    "\n",
    "            for node_id in vertices:\n",
    "                node = vertices[node_id]\n",
    "                node_3d = np.array([node.x, node.y, node.z])\n",
    "                node_vectors[node_id] = node_3d\n",
    "\n",
    "                node_x = x_axis.dot(node_3d)\n",
    "                node_y = y_axis.dot(node_3d)\n",
    "                node_vectors_2d[node_id] = (node_x, node_y)\n",
    "\n",
    "                return g"
   ]
  },
  {
   "cell_type": "code",
   "execution_count": null,
   "metadata": {},
   "outputs": [],
   "source": []
  }
 ],
 "metadata": {
  "kernelspec": {
   "display_name": "Python 3",
   "language": "python",
   "name": "python3"
  },
  "language_info": {
   "codemirror_mode": {
    "name": "ipython",
    "version": 3
   },
   "file_extension": ".py",
   "mimetype": "text/x-python",
   "name": "python",
   "nbconvert_exporter": "python",
   "pygments_lexer": "ipython3",
   "version": "3.6.9"
  }
 },
 "nbformat": 4,
 "nbformat_minor": 4
}

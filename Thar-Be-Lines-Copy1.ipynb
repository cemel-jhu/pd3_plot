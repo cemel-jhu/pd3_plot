{
 "cells": [
  {
   "cell_type": "code",
   "execution_count": 1,
   "metadata": {
    "scrolled": true
   },
   "outputs": [
    {
     "data": {
      "application/vnd.jupyter.widget-view+json": {
       "model_id": "dc9047b8fb0d47e9b24518d95f7df652",
       "version_major": 2,
       "version_minor": 0
      },
      "text/plain": [
       "VBox(children=(Figure(animation=200.0, camera=PerspectiveCamera(fov=46.0, position=(0.0, 0.0, 2.0), quaternion…"
      ]
     },
     "metadata": {},
     "output_type": "display_data"
    }
   ],
   "source": [
    "import ipyvolume as ipv\n",
    "import numpy as np\n",
    "\n",
    "# only x is a sequence of arrays\n",
    "x = np.array([[-1, -0.8], [1, -0.1], [0., 0.5]])\n",
    "y = np.array([0.0, 0.0])\n",
    "z = np.array([0.0, 0.0])\n",
    "ipv.figure()\n",
    "s = ipv.scatter(x, y, z, marker='sphere', size=10, connected=True)\n",
    "ipv.xyzlim(-1, 1)\n",
    "ipv.animation_control(s) # shows controls for animation controls\n",
    "ipv.show()"
   ]
  },
  {
   "cell_type": "code",
   "execution_count": 2,
   "metadata": {},
   "outputs": [
    {
     "data": {
      "application/vnd.jupyter.widget-view+json": {
       "model_id": "1ef1b35822a74db1b8fe81c50256aee3",
       "version_major": 2,
       "version_minor": 0
      },
      "text/plain": [
       "VBox(children=(Figure(animation=200.0, camera=PerspectiveCamera(fov=46.0, position=(0.0, 0.0, 2.0), quaternion…"
      ]
     },
     "metadata": {},
     "output_type": "display_data"
    }
   ],
   "source": [
    "import ipyvolume as ipv\n",
    "import numpy as np\n",
    "\n",
    "# only x is a sequence of arrays\n",
    "x = np.array([[-1, -0.8, float(\"nan\")], [1, -0.1, 2], [0., 0.5, 3]])\n",
    "y = np.array([[0.0, 0.0, float(\"nan\")],[0.0, 0.0, 0],[0.0, 0.0, 3]])\n",
    "z = np.array([[0.0, 0.0, float(\"nan\")],[0.0, 0.0, 0],[0.0, 0.0, 3]])\n",
    "\n",
    "x2 = np.array([[-1.5, -1.3, float(\"nan\")], [2, 0.2, 2], [0., 0.5, 4]])\n",
    "y2 = np.array([[0.0, 1.0, float(\"nan\")],[0.0, 1.0, 0],[0.0, 1.0, 3]])\n",
    "z2 = np.array([[1.0, 0.0, float(\"nan\")],[1.0, 0.0, 0],[1.0, 0.0, 3]])\n",
    "\n",
    "f = ipv.figure()\n",
    "ipv.scatter(x, y, z, marker='sphere', size=10, connected=True)\n",
    "ipv.scatter(x2, y2, z2, marker='sphere', size=10, connected=True)\n",
    "ipv.xyzlim(-1, 1)\n",
    "ipv.animation_control(f.scatters) # shows controls for animation controls\n",
    "ipv.show()"
   ]
  },
  {
   "cell_type": "code",
   "execution_count": null,
   "metadata": {},
   "outputs": [],
   "source": []
  }
 ],
 "metadata": {
  "kernelspec": {
   "display_name": "Python 3",
   "language": "python",
   "name": "python3"
  },
  "language_info": {
   "codemirror_mode": {
    "name": "ipython",
    "version": 3
   },
   "file_extension": ".py",
   "mimetype": "text/x-python",
   "name": "python",
   "nbconvert_exporter": "python",
   "pygments_lexer": "ipython3",
   "version": "3.6.9"
  }
 },
 "nbformat": 4,
 "nbformat_minor": 4
}

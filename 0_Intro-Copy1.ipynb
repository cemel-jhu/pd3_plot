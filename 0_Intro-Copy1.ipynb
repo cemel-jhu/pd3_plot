{
 "cells": [
  {
   "cell_type": "markdown",
   "metadata": {},
   "source": [
    "###### Thanks for joining us!\n",
    "\n",
    "This is a sample python notebook where we expect you'll be pending a lot of your time. Notebooks are great because not only can you [write notes in markdown](https://guides.github.com/features/mastering-markdown/), and [math in $\\LaTeX$](https://www.overleaf.com/learn/latex/Learn_LaTeX_in_30_minutes), but you can write code too! Check this out:"
   ]
  },
  {
   "cell_type": "code",
   "execution_count": 1,
   "metadata": {},
   "outputs": [
    {
     "name": "stdout",
     "output_type": "stream",
     "text": [
      "Hello World\n"
     ]
    }
   ],
   "source": [
    "print(\"Hello World\")"
   ]
  },
  {
   "cell_type": "markdown",
   "metadata": {},
   "source": [
    "Our lab studies material deformation at a mesoscale. Think of a spring (TODO)\n",
    "\n",
    "In discrete dislocation dynamics, we typically think of these of these lattice mismatches (or dislocations) [as similar to a graph](https://www.youtube.com/watch?v=ZHqQDA3be-k). This is a pretty fun area of math, I'm sad all the examples I found online were pretty boring. Notably, we DO care where the vertices (we call them nodes) are, and DO care about additional physical information assosiated with the edges (or segments as we refer to them). However, treating DDD as a graph problem makes it easier for use when programming."
   ]
  },
  {
   "cell_type": "markdown",
   "metadata": {},
   "source": [
    "## Learning goals of 1st week:\n",
    "\n",
    " - Learn basic material science intuition for what our lab does\n",
    " - Learn some basic python to get up to speed\n",
    " - Learn some discrete math, graph theory, and algorithms\n",
    " - Learn some basic linear algebra"
   ]
  },
  {
   "cell_type": "markdown",
   "metadata": {},
   "source": [
    "## First deliverable\n",
    "\n",
    "We have a python library backed by a more powerful C++ framework. Our current method for visualizing our dislocations systems, is to export our simulations and open them in paraview. Jupyter notebooks let us make plots right here! For example:"
   ]
  },
  {
   "cell_type": "code",
   "execution_count": 2,
   "metadata": {},
   "outputs": [
    {
     "data": {
      "text/plain": [
       "array([100,  81,  64,  49,  36,  25,  16,   9,   4,   1,   0,   1,   4,\n",
       "         9,  16,  25,  36,  49,  64,  81, 100])"
      ]
     },
     "execution_count": 2,
     "metadata": {},
     "output_type": "execute_result"
    }
   ],
   "source": [
    "import numpy as np\n",
    "x = np.arange(-10, 11)\n",
    "for i, val in enumerate(x):\n",
    "    x[i] = val * val\n",
    "x"
   ]
  },
  {
   "cell_type": "code",
   "execution_count": 3,
   "metadata": {},
   "outputs": [
    {
     "data": {
      "image/png": "[encoded data removed]",
      "text/plain": [
       "<Figure size 432x288 with 1 Axes>"
      ]
     },
     "metadata": {},
     "output_type": "display_data"
    }
   ],
   "source": [
    "# Package for plotting in python\n",
    "import matplotlib.pyplot as plt\n",
    "\n",
    "# Seaborn makes matplotlib charts prettier.\n",
    "import seaborn as sns\n",
    "sns.set()\n",
    "\n",
    "# Numpy is a great package for doing math.\n",
    "import numpy as np\n",
    "\n",
    "# You probably remember quadratic equations\n",
    "# y = x^2\n",
    "# We're just going to calculate and plot that\n",
    "x = np.arange(-10, 11) # -10, -9, .. 10\n",
    "y = x**2               # 100, 81, .. 100\n",
    "\n",
    "# We can now set up our plotting guidlines\n",
    "plt.title(\"It's a quadratic!\")\n",
    "plt.xlim((-10, 10))\n",
    "plt.ylim((0, 100))\n",
    "plt.xlabel(\"my x\")\n",
    "plt.ylabel(\"y\")\n",
    "\n",
    "# And finally we plot\n",
    "plt.plot(x, y)\n",
    "plt.show()"
   ]
  },
  {
   "cell_type": "markdown",
   "metadata": {},
   "source": [
    "We would like a way to plot our dislocation networks right in jupyter. Currently this functionality does not exist. Documentation of our library can be found [here](https://dmadisetti.github.io/pd3/api-py-pd3--python--core--Study/). An example of using our library is as follows:"
   ]
  },
  {
   "cell_type": "code",
   "execution_count": 4,
   "metadata": {},
   "outputs": [
    {
     "data": {
      "text/plain": [
       "True"
      ]
     },
     "execution_count": 4,
     "metadata": {},
     "output_type": "execute_result"
    }
   ],
   "source": [
    "# pd3 is our library!\n",
    "# it stands for: parallel discrete partial dislocation + precipitate dynamics \n",
    "# but really, it's just fun to say\n",
    "import pd3\n",
    "from pd3.proto.study_pb2 import IMMOBILE\n",
    "\n",
    "# A \"normal\" vector is a vector that is length 1 from the origin (0,0).\n",
    "# This makes any vector \"normal\"\n",
    "def normalize(a, b, c):\n",
    "    \"\"\"Creates a unit vector from a, b, c\"\"\"\n",
    "    vector = np.array([a, b, c])\n",
    "    return vector / np.linalg.norm(vector)\n",
    "\n",
    "# This is the 'plane normal'. A plane cuts through 3D space, and the normal, is perpendicular to all vectors on the plane. That is normal \\dot vector = 0\n",
    "normal = normalize(1, 1, 1)\n",
    "\n",
    "# These are directions on the plane. We can chose any 2 vectors to be our 'basis', but these are nice\n",
    "# and relevant to crystallography in FCC materials.\n",
    "# Note y_dir dot x_dir = 0, but also\n",
    "# x_dir dot normal = y_dir dot normal = 0!\n",
    "y_direction = normalize(-1, 1, 0)\n",
    "x_direction = normalize(1, 1, -2)\n",
    "\n",
    "# Burger's direction is a means of measuring the type and magnitude of the lattice mismatches.\n",
    "# This will come up much more. It is physically derived from something called a burger's circut\n",
    "# which I can touch on more later.\n",
    "burgers = pd3.Burgers((1, 0, -1))\n",
    "\n",
    "# We're going to make a parabola shape just like the previous example.\n",
    "# But since we're in 3D, we need to handle the equation a little differently.\n",
    "def in_plane_quadratic(x):\n",
    "    y = x**2\n",
    "    return x * x_direction + y * y_direction\n",
    "\n",
    "# All pd3 usage starts off with creating a study.\n",
    "example = pd3.Study()\n",
    "\n",
    "# Start off our parabola\n",
    "# Here we make a node, or vertex.\n",
    "# We'll later \"connect\" vertices together to make an edge or segment.\n",
    "# We note that the node is \"IMMOBILE\", which means it can't move during\n",
    "# our simulations.\n",
    "start = example.create_node(\n",
    "    in_plane_quadratic(-4), # This is the position in space\n",
    "    IMMOBILE # This is the type of node, which means it's fixed in space.\n",
    ")\n",
    "old_node = start\n",
    "\n",
    "# Create a node for each step, and connect each next\n",
    "# step to the previous step.\n",
    "for x in range(-3, 7):\n",
    "    new_node = example.create_node(\n",
    "        in_plane_quadratic(x), # The position in space changes with x\n",
    "    )\n",
    "    # We make the segment by connecting 2 nodes.\n",
    "    example.connect(old_node, new_node, burgers)\n",
    "    # We set the old_node to new node for the next loop.\n",
    "    old_node = new_node\n",
    "\n",
    "# Add the end to our parabola!\n",
    "end = example.create_node(\n",
    "    in_plane_quadratic(6), # The other side of the quadratic\n",
    "    IMMOBILE # This end is also fixed.\n",
    ")\n",
    "example.connect(old_node, end, burgers)\n"
   ]
  },
  {
   "cell_type": "code",
   "execution_count": 5,
   "metadata": {},
   "outputs": [
    {
     "data": {
      "text/plain": [
       "True"
      ]
     },
     "execution_count": 5,
     "metadata": {},
     "output_type": "execute_result"
    }
   ],
   "source": [
    "# We're going to make a parabola shape just like the previous example.\n",
    "# But since we're in 3D, we need to handle the equation a little differently.\n",
    "def fancy_quadratic(x):\n",
    "    y = -3*x**2 + 200*x + 2800\n",
    "#     y = 1*x**2 + 10*x + 10\n",
    "#     y = -8*x**4 + 3908*x + 90000 #by changing this, you change the shape of the graph\n",
    "#     y = -9*x**7 + 99*x + 900\n",
    "#     y = -2*x**2 + 400*x + 3000\n",
    "#     y = -2*x**2 + 500*x + 800\n",
    "#     y = -3*x**1 + 300*x + 5000\n",
    "    return x * x_direction + y * y_direction\n",
    "\n",
    "# burgers = pd3.Burgers((-1, 1, 0))\n",
    "# alt_burgers = pd3.Burgers((1, 0, -1))\n",
    "alt_burgers = pd3.Burgers((1, -1, 0))\n",
    "\n",
    "# Start off our parabola\n",
    "# Here we make a node, or vertex.\n",
    "# We'll later \"connect\" vertices together to make an edge or segment.\n",
    "# We note that the node is \"IMMOBILE\", which means it can't move during\n",
    "# our simulations.\n",
    "start = example.create_node(\n",
    "    fancy_quadratic(-4), # This is the position in space\n",
    "    IMMOBILE # This is the type of node, which means it's fixed in space.\n",
    ")\n",
    "old_node = start\n",
    "\n",
    "# Create a node for each step, and connect each next\n",
    "# step to the previous step.\n",
    "for x in range(-4, 6):\n",
    "    new_node = example.create_node(\n",
    "        fancy_quadratic(x), # The position in space changes with x\n",
    "    )\n",
    "    # We make the segment by connecting 2 nodes.\n",
    "    example.connect(old_node, new_node, alt_burgers)\n",
    "    # We set the old_node to new node for the next loop.\n",
    "    old_node = new_node\n",
    "\n",
    "# Add the end to our parabola!\n",
    "end = example.create_node(\n",
    "    fancy_quadratic(6), # The other side of the quadratic\n",
    "    IMMOBILE # This end is also fixed.\n",
    ")\n",
    "example.connect(old_node, end, burgers)\n"
   ]
  },
  {
   "cell_type": "code",
   "execution_count": 6,
   "metadata": {},
   "outputs": [],
   "source": [
    "# Convert our system into a graph for plotting\n",
    "graph = example.export_protobuf()"
   ]
  },
  {
   "cell_type": "markdown",
   "metadata": {},
   "source": [
    "## Note\n",
    "\n",
    "You'll notice that the points are in 3d, while plots can only really be done in 2d. So we need to prescribe the x, y axis in 3D space to come up with a 3D plot. One you feel comfortable with the content your first task will be to fill out the following function."
   ]
  },
  {
   "cell_type": "code",
   "execution_count": null,
   "metadata": {},
   "outputs": [],
   "source": []
  },
  {
   "cell_type": "code",
   "execution_count": 9,
   "metadata": {
    "scrolled": true
   },
   "outputs": [
    {
     "data": {
      "application/vnd.jupyter.widget-view+json": {
       "model_id": "1742e012c7c54249bd52e856ab4a4575",
       "version_major": 2,
       "version_minor": 0
      },
      "text/plain": [
       "VBox(children=(Figure(camera=PerspectiveCamera(fov=46.0, position=(0.0, 0.0, 2.0), quaternion=(0.0, 0.0, 0.0, …"
      ]
     },
     "metadata": {},
     "output_type": "display_data"
    }
   ],
   "source": [
    "# Dylan: Check this out! Give it a run. Click and drag as well\n",
    "\n",
    "import ipyvolume as ipv\n",
    "import numpy as np\n",
    "s = 1/2**0.5\n",
    "# 4 vertices for the tetrahedron\n",
    "x = np.array([1.,  -1, 0,  0])\n",
    "y = np.array([0,   0, 1., -1])\n",
    "z = np.array([-s, -s, s,  s])\n",
    "# and 4 surfaces (triangles), where the number refer to the vertex index\n",
    "triangles = [(0, 1, 2), (0, 1, 3), (0, 2, 3), (1,3,2)]\n",
    "ipv.figure()\n",
    "# we draw the tetrahedron\n",
    "mesh = ipv.pylab.plot(x, y, z)\n",
    "# and also mark the vertices\n",
    "ipv.pylab.style.use(\"fivethirtyeight\")\n",
    "ipv.scatter(x, y, z, marker='sphere')\n",
    "ipv.xyzlim(-2, 2)\n",
    "ipv.show()"
   ]
  },
  {
   "cell_type": "code",
   "execution_count": 33,
   "metadata": {
    "scrolled": true
   },
   "outputs": [
    {
     "name": "stdout",
     "output_type": "stream",
     "text": [
      "!\n",
      "NEW BRANCH\n",
      "38207984 None\n",
      "NEW BRANCH\n",
      "47517584 47517584\n",
      "Not Visited: {58285728, 45736480, 50523040, 56537008, 47186736, 45736624, 47253680, 45547568, 45736768, 46072640, 56787136, 42590144, 56875968, 47253824, 47186880, 46072784, 46680784, 46680928, 34111328, 48673504, 45547760, 48673648}\n",
      "NEW BRANCH\n",
      "56875968 47517584\n",
      "NEW BRANCH\n",
      "42590144 38207984\n",
      "NEW BRANCH\n",
      "56875968 56875968\n",
      "Not Visited: {58285728, 45736480, 50523040, 56537008, 47186736, 45736624, 47253680, 45547568, 45736768, 46072640, 56787136, 47253824, 47186880, 46072784, 46680784, 46680928, 34111328, 48673504, 45547760, 48673648}\n",
      "NEW BRANCH\n",
      "47253680 56875968\n",
      "NEW BRANCH\n",
      "42590144 42590144\n",
      "Not Visited: {58285728, 45736480, 50523040, 56537008, 47186736, 45736624, 45547568, 45736768, 46072640, 56787136, 47253824, 47186880, 46072784, 46680784, 46680928, 34111328, 48673504, 45547760, 48673648}\n",
      "NEW BRANCH\n",
      "47186880 42590144\n",
      "NEW BRANCH\n",
      "48673504 47253680\n",
      "NEW BRANCH\n",
      "47186880 47186880\n",
      "Not Visited: {58285728, 45736480, 50523040, 56537008, 47186736, 45736624, 45547568, 45736768, 46072640, 56787136, 47253824, 46072784, 46680784, 46680928, 34111328, 45547760, 48673648}\n",
      "NEW BRANCH\n",
      "48673648 47186880\n",
      "Not Visited: {58285728, 45736480, 50523040, 56537008, 47186736, 45736624, 45547568, 45736768, 46072640, 56787136, 47253824, 46072784, 46680784, 46680928, 34111328, 45547760}\n",
      "Not Visited: {58285728, 45736480, 50523040, 56537008, 47186736, 45736624, 45547568, 45736768, 46072640, 56787136, 47253824, 46072784, 46680784, 46680928, 34111328, 45547760}\n",
      "NEW BRANCH\n",
      "47253680 47253680\n",
      "Not Visited: {58285728, 45736480, 50523040, 56537008, 47186736, 45736624, 45547568, 45736768, 46072640, 56787136, 47253824, 46072784, 46680784, 46680928, 34111328, 45547760}\n",
      "Not Visited: {58285728, 45736480, 50523040, 56537008, 47186736, 45736624, 45547568, 45736768, 46072640, 56787136, 47253824, 46072784, 46680784, 46680928, 34111328, 45547760}\n",
      "Not Visited: {58285728, 45736480, 50523040, 56537008, 47186736, 45736624, 45547568, 45736768, 46072640, 56787136, 47253824, 46072784, 46680784, 46680928, 34111328, 45547760}\n",
      "Not Visited: {58285728, 45736480, 50523040, 56537008, 47186736, 45736624, 45547568, 45736768, 46072640, 56787136, 47253824, 46072784, 46680784, 46680928, 34111328, 45547760}\n",
      "NEW BRANCH\n",
      "38207984 38207984\n",
      "Not Visited: {58285728, 45736480, 50523040, 56537008, 47186736, 45736624, 45547568, 45736768, 46072640, 56787136, 47253824, 46072784, 46680784, 46680928, 34111328, 45547760}\n",
      "Not Visited: {58285728, 45736480, 50523040, 56537008, 47186736, 45736624, 45547568, 45736768, 46072640, 56787136, 47253824, 46072784, 46680784, 46680928, 34111328, 45547760}\n",
      "Not Visited: {58285728, 45736480, 50523040, 56537008, 47186736, 45736624, 45547568, 45736768, 46072640, 56787136, 47253824, 46072784, 46680784, 46680928, 34111328, 45547760}\n",
      "NEW BRANCH\n",
      "56787136 None\n",
      "NEW BRANCH\n",
      "56537008 47517584\n",
      "NEW BRANCH\n",
      "58285728 56787136\n",
      "NEW BRANCH\n",
      "56537008 56537008\n",
      "Not Visited: {45736480, 50523040, 47186736, 45736624, 45547568, 45736768, 46072640, 47253824, 46072784, 46680784, 46680928, 34111328, 45547760}\n",
      "NEW BRANCH\n",
      "45736768 56537008\n",
      "Not Visited: {45736480, 50523040, 47186736, 45736624, 45547568, 46072640, 47253824, 46072784, 46680784, 46680928, 34111328, 45547760}\n",
      "Not Visited: {45736480, 50523040, 47186736, 45736624, 45547568, 46072640, 47253824, 46072784, 46680784, 46680928, 34111328, 45547760}\n",
      "NEW BRANCH\n",
      "56787136 56787136\n",
      "Not Visited: {45736480, 50523040, 47186736, 45736624, 45547568, 46072640, 47253824, 46072784, 46680784, 46680928, 34111328, 45547760}\n",
      "Not Visited: {45736480, 50523040, 47186736, 45736624, 45547568, 46072640, 47253824, 46072784, 46680784, 46680928, 34111328, 45547760}\n",
      "NEW BRANCH\n",
      "47517584 47517584\n",
      "Not Visited: {45736480, 50523040, 47186736, 45736624, 45547568, 46072640, 47253824, 46072784, 46680784, 46680928, 34111328, 45547760}\n",
      "Not Visited: {45736480, 50523040, 47186736, 45736624, 45547568, 46072640, 47253824, 46072784, 46680784, 46680928, 34111328, 45547760}\n",
      "!\n",
      "NEW BRANCH\n",
      "46072784 None\n",
      "NEW BRANCH\n",
      "46680784 45736480\n",
      "NEW BRANCH\n",
      "46072784 46072784\n",
      "Not Visited: {50523040, 47186736, 45736624, 45547568, 46072640, 47253824, 46680928, 34111328, 45547760}\n",
      "NEW BRANCH\n",
      "47253824 46072784\n",
      "NEW BRANCH\n",
      "34111328 46680784\n",
      "NEW BRANCH\n",
      "47253824 47253824\n",
      "Not Visited: {50523040, 47186736, 45736624, 45547568, 46072640, 46680928, 45547760}\n",
      "NEW BRANCH\n",
      "50523040 47253824\n",
      "Not Visited: {47186736, 45736624, 45547568, 46072640, 46680928, 45547760}\n",
      "Not Visited: {47186736, 45736624, 45547568, 46072640, 46680928, 45547760}\n",
      "NEW BRANCH\n",
      "46680784 46680784\n",
      "Not Visited: {47186736, 45736624, 45547568, 46072640, 46680928, 45547760}\n",
      "Not Visited: {47186736, 45736624, 45547568, 46072640, 46680928, 45547760}\n",
      "Not Visited: {47186736, 45736624, 45547568, 46072640, 46680928, 45547760}\n",
      "NEW BRANCH\n",
      "45736480 45736480\n",
      "Not Visited: {47186736, 45736624, 45547568, 46072640, 46680928, 45547760}\n",
      "Not Visited: {47186736, 45736624, 45547568, 46072640, 46680928, 45547760}\n",
      "NEW BRANCH\n",
      "45547760 None\n",
      "NEW BRANCH\n",
      "47186736 45736480\n",
      "NEW BRANCH\n",
      "45547760 45547760\n",
      "Not Visited: {45736624, 45547568, 46072640, 46680928}\n",
      "NEW BRANCH\n",
      "45736624 45547760\n",
      "NEW BRANCH\n",
      "46680928 47186736\n",
      "NEW BRANCH\n",
      "46072640 45736624\n",
      "NEW BRANCH\n",
      "46680928 46680928\n",
      "Not Visited: {45547568}\n",
      "NEW BRANCH\n",
      "45547568 46680928\n",
      "Not Visited: set()\n",
      "Not Visited: set()\n",
      "NEW BRANCH\n",
      "45736624 45736624\n",
      "Not Visited: set()\n",
      "Not Visited: set()\n",
      "NEW BRANCH\n",
      "47186736 47186736\n",
      "Not Visited: set()\n",
      "Not Visited: set()\n",
      "Not Visited: set()\n",
      "NEW BRANCH\n",
      "45736480 45736480\n",
      "Not Visited: set()\n",
      "Not Visited: set()\n",
      "4\n"
     ]
    },
    {
     "data": {
      "image/png": "[encoded data removed]",
      "text/plain": [
       "<Figure size 432x288 with 1 Axes>"
      ]
     },
     "metadata": {},
     "output_type": "display_data"
    }
   ],
   "source": [
    "#plot study using dfs\n",
    "\n",
    "import pd3\n",
    "from pd3.proto.study_pb2 import IMMOBILE\n",
    "import matplotlib.pyplot as plt\n",
    "import numpy as np\n",
    "from matplotlib import collections  as mcimport \n",
    "import matplotlib.cm as cm\n",
    "import pylab as pl\n",
    "\n",
    "\n",
    "def plot_study(study, x_axis=(1, 0, 0), y_axis=(0, 1, 0), timestep = 0):\n",
    "    \"\"\"! \\brief Plots the dislocation system at the given timestep.\n",
    "\n",
    "    Plots a given dislocation system with orthogonal axes.\n",
    "    \\param study Self instance.\n",
    "    \\param x_axis The x axis to project the system on.\n",
    "    \\param y_axis The y axis to projec the system on.\n",
    "    \\param timestep The timestep to plot.\n",
    "    \"\"\"\n",
    "    # Ensure x_axis, y_axis are normalized\n",
    "    x_axis = np.array(x_axis)\n",
    "    x_axis = x_axis / np.linalg.norm(x_axis)\n",
    "    y_axis = np.array(y_axis)\n",
    "    y_axis = y_axis / np.linalg.norm(y_axis)\n",
    "    \n",
    "    # https://numpy.org/doc/stable/\n",
    "    if x_axis.dot(y_axis) != 0:\n",
    "        raise pd3.Pd3Exception(\"Provided axes are not normal.\")\n",
    "\n",
    "    graph = study.export_protobuf()\n",
    "\n",
    "    # Here's an example of how to break up our graph to get the edges and vertices.\n",
    "    vertices = graph.state[timestep].nodes\n",
    "    edges = graph.state[timestep].links\n",
    "    g = {}\n",
    "    not_visited = set()\n",
    "    visited = set()\n",
    "    \n",
    "    \n",
    "    for edge in edges:\n",
    "        not_visited.add(edge.leading)\n",
    "        not_visited.add(edge.trailing)\n",
    "        leading_neighbors = g.get(edge.leading, [])\n",
    "        leading_neighbors.append(edge.trailing)\n",
    "        trailing_neighbors = g.get(edge.trailing, [])\n",
    "        trailing_neighbors.append(edge.leading)\n",
    "        g[edge.leading] = leading_neighbors\n",
    "        g[edge.trailing] = trailing_neighbors\n",
    "\n",
    "    node_vectors = {}\n",
    "    for node_id in vertices:\n",
    "        node = vertices[node_id]\n",
    "        node_3d = np.array([node.x, node.y, node.z])\n",
    "        node_x = x_axis.dot(node_3d)\n",
    "        node_y = y_axis.dot(node_3d)\n",
    "        node_vectors[node_id] = (node_x, node_y)\n",
    "        \n",
    "    \n",
    "    lines = []\n",
    "    def dfs(current, previous, line):\n",
    "        # Dylan: I moved all the definitions up here\n",
    "        neighbors = g[current]\n",
    "        here = node_vectors[current]\n",
    "        branch = line\n",
    "        branch.append(here)\n",
    "        # If this is our firt visit, then we should record this line.\n",
    "        # Otherwise, we're in a loop!\n",
    "        first_visit = current not in visited\n",
    "        # This is the end of a dislocation line because:\n",
    "        #       1) there's only 1 connection\n",
    "        #       2) and that cpnnection is previous\n",
    "        end_of_line = (len(neighbors) == 1 and neighbors[0] == previous)\n",
    "\n",
    "        # Even if it's the end of the line, we try to add it to previous.\n",
    "        visited.add(current)\n",
    "        if current in not_visited:\n",
    "            not_visited.remove(current)\n",
    "\n",
    "        # Now we check to see if we should stop and record the line.\n",
    "        if not first_visit or end_of_line:\n",
    "            if line:\n",
    "                lines.append(branch)\n",
    "            return\n",
    "\n",
    "        for node in neighbors: #this starts the new branches?\n",
    "            print (\"NEW BRANCH\")\n",
    "            print(node, previous)\n",
    "            if node != previous:\n",
    "                dfs(node, current, branch, 0)\n",
    "                branch = [node_vectors[current]]\n",
    "            print(\"Not Visited: \" + str(not_visited))\n",
    "    \n",
    "    while len(not_visited) > 0:\n",
    "        start_node = not_visited.pop()\n",
    "        dfs(start_node, None, [], 0)\n",
    "\n",
    "    print(len(lines))\n",
    "#    #using line collection\n",
    "    lc = mc.LineCollection(lines)\n",
    "    fig, ax = pl.subplots()\n",
    "    ax.add_collection(lc)\n",
    "    ax.autoscale()\n",
    "    ax.margins(0.1)\n",
    "#     ax.quiver(node_x, node_y, node_x, node_y)\n",
    "    plt.title(\"Plot Study\")\n",
    "    plt.xlabel(\"x\")\n",
    "    plt.ylabel(\"y\")\n",
    "    \n",
    "#     plt.plot(x_data, y_data,'o')\n",
    "\n",
    "x = normalize(1,0,0)\n",
    "y = normalize(0,1,0)\n",
    "    \n",
    "#study = pd3.Study()\n",
    "#start = study.create_node((-2,3,-1), IMMOBILE)\n",
    "# TODO: This should make a pretty similar graph to the standard quadratic graph above.\n",
    "plot_study(example, (1,1,0), (1,-1,0))\n",
    "\n",
    "\n",
    "#Start dfs at node zero\n",
    "\n",
    "# Extended goals\n",
    "\n",
    "# - Try and plot different colors based on BV\n",
    "\n",
    "# - Fix the DFS approach\n",
    "# - Try to get 3D working\n",
    "\n"
   ]
  },
  {
   "cell_type": "code",
   "execution_count": null,
   "metadata": {},
   "outputs": [],
   "source": [
    "# Here is what all the nodes and segments look like in the graph.\n",
    "# state = graph.state[0]\n",
    "# state.nodes\n",
    "\n",
    "arr = [1, 2, 3, 4, 5]\n",
    "\n",
    "hashmap = {\n",
    "    \"Hello!\": \"World\",\n",
    "    \"crazy\": {\n",
    "        \"Woah\": \"this is wild\"\n",
    "    },\n",
    "    0: \"Wow!\",\n",
    "    1: 123,\n",
    "}\n",
    "\n",
    "graph.state[0].nodes[25848368]"
   ]
  }
 ],
 "metadata": {
  "kernelspec": {
   "display_name": "Python 3",
   "language": "python",
   "name": "python3"
  },
  "language_info": {
   "codemirror_mode": {
    "name": "ipython",
    "version": 3
   },
   "file_extension": ".py",
   "mimetype": "text/x-python",
   "name": "python",
   "nbconvert_exporter": "python",
   "pygments_lexer": "ipython3",
   "version": "3.6.9"
  }
 },
 "nbformat": 4,
 "nbformat_minor": 4
}
